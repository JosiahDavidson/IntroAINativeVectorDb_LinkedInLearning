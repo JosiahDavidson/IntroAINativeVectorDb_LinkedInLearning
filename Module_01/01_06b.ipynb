{
 "cells": [
  {
   "cell_type": "markdown",
   "id": "769514d3",
   "metadata": {},
   "source": [
    "Given 3D vectors [40,120,60] and [60,50,90]"
   ]
  },
  {
   "cell_type": "markdown",
   "id": "a97379d5",
   "metadata": {},
   "source": [
    "### Q1 draw out these vectors"
   ]
  },
  {
   "cell_type": "code",
   "execution_count": null,
   "id": "59f1801b",
   "metadata": {},
   "outputs": [],
   "source": [
    "import numpy as np\n",
    "import matplotlib.pyplot as plt\n",
    "\n",
    "#Initialize the two vectors\n",
    "\n",
    "# ADD CODE HERE\n",
    "\n",
    "ax = plt.figure().add_subplot(projection='3d')\n",
    "\n",
    "# Draw out the vectors\n",
    "\n",
    "# ADD CODE HERE\n",
    "\n",
    "\n",
    "# Make legend, set axes limits and labels\n",
    "ax.legend()\n",
    "ax.set_xlim(0, 150)\n",
    "ax.set_ylim(0, 150)\n",
    "ax.set_zlim(0, 150)\n",
    "ax.set_xlabel('X')\n",
    "ax.set_ylabel('Y')\n",
    "ax.set_zlabel('Z')\n",
    "\n",
    "# Customize the view angle so it's easier to see that the scatter points lie\n",
    "# on the plane y=0\n",
    "ax.view_init(elev=20., azim=-35, roll=0)\n",
    "\n",
    "plt.show()"
   ]
  },
  {
   "cell_type": "markdown",
   "id": "16118c77",
   "metadata": {},
   "source": [
    "-----"
   ]
  },
  {
   "cell_type": "markdown",
   "id": "c083c126",
   "metadata": {},
   "source": [
    "### Q2 Calculate the euclidian, manhattan, cosine, and dot product distances between these vectors"
   ]
  },
  {
   "cell_type": "markdown",
   "id": "7de5558e",
   "metadata": {},
   "source": [
    "### Manhattan distance"
   ]
  },
  {
   "cell_type": "code",
   "execution_count": null,
   "id": "a383372b",
   "metadata": {},
   "outputs": [],
   "source": [
    "L1 = # ADD CODE HERE\n",
    "\n",
    "print(L1)"
   ]
  },
  {
   "cell_type": "code",
   "execution_count": null,
   "id": "8ef5c163",
   "metadata": {},
   "outputs": [],
   "source": [
    "#An alternate approach\n",
    "\n",
    "a = np.array(colour1)\n",
    "b = np.array(colour2)\n",
    "\n",
    "np.linalg.norm((a - b), ord=1)"
   ]
  },
  {
   "cell_type": "markdown",
   "id": "0c48b0e0",
   "metadata": {},
   "source": [
    "### Euclidian distance"
   ]
  },
  {
   "cell_type": "code",
   "execution_count": null,
   "id": "d7f26643",
   "metadata": {},
   "outputs": [],
   "source": [
    "L2 = # ADD CODE HERE\n",
    "\n",
    "print(L2)"
   ]
  },
  {
   "cell_type": "code",
   "execution_count": null,
   "id": "5ed8ad38",
   "metadata": {},
   "outputs": [],
   "source": [
    "np.linalg.norm((a - b), ord=2)"
   ]
  },
  {
   "cell_type": "markdown",
   "id": "e01aea94",
   "metadata": {},
   "source": [
    "### Cosine distance"
   ]
  },
  {
   "cell_type": "code",
   "execution_count": null,
   "id": "7795a790",
   "metadata": {},
   "outputs": [],
   "source": [
    "cosine = # ADD CODE HERE\n",
    "\n",
    "print(cosine)"
   ]
  },
  {
   "cell_type": "markdown",
   "id": "82937f79",
   "metadata": {},
   "source": [
    "### Dot product"
   ]
  },
  {
   "cell_type": "code",
   "execution_count": null,
   "id": "cd713f93",
   "metadata": {},
   "outputs": [],
   "source": [
    "dot = # ADD CODE HERE\n",
    "\n",
    "print(dot)"
   ]
  },
  {
   "cell_type": "code",
   "execution_count": null,
   "id": "73261a62",
   "metadata": {},
   "outputs": [],
   "source": [
    "#alternate method\n",
    "\n",
    "np.dot(a,b)"
   ]
  },
  {
   "cell_type": "markdown",
   "id": "05c21898",
   "metadata": {},
   "source": [
    "---"
   ]
  },
  {
   "cell_type": "markdown",
   "id": "e46c6217",
   "metadata": {},
   "source": [
    "### Q3 Can you come up with a colour that has a smaller cosine distance from the first vector?"
   ]
  },
  {
   "cell_type": "code",
   "execution_count": null,
   "id": "c332d39d",
   "metadata": {},
   "outputs": [],
   "source": [
    "colour1 = [40,120,60]\n",
    "colour2 = [60,50,90]\n",
    "\n",
    "colour3 = # ADD CODE HERE"
   ]
  },
  {
   "cell_type": "code",
   "execution_count": null,
   "id": "a28754d2",
   "metadata": {},
   "outputs": [],
   "source": [
    "ax = plt.figure().add_subplot(projection='3d')\n",
    "\n",
    "# Plot a sin curve using the x and y axes.\n",
    "ax.scatter(xs=colour1[0], ys=colour1[1], zs=colour1[2], zdir='z', label='Colour1')\n",
    "\n",
    "ax.scatter(xs=colour2[0], ys=colour2[1], zs=colour2[2], zdir='z', label='Colour2')\n",
    "\n",
    "ax.scatter(0, 0, 0, zdir='z', label='Origin', c='black')\n",
    "\n",
    "ax.quiver(0,0,0,colour1[0],colour1[1],colour1[2], color='black', arrow_length_ratio=0.1)\n",
    "ax.quiver(0,0,0,colour2[0],colour2[1],colour2[2], color='black', arrow_length_ratio=0.1)\n",
    "\n",
    "#Add vector 3 to the diagram\n",
    "\n",
    "# ADD CODE HERE\n",
    "\n",
    "# Make legend, set axes limits and labels\n",
    "ax.legend()\n",
    "ax.set_xlim(0, 150)\n",
    "ax.set_ylim(0, 150)\n",
    "ax.set_zlim(0, 150)\n",
    "ax.set_xlabel('X')\n",
    "ax.set_ylabel('Y')\n",
    "ax.set_zlabel('Z')\n",
    "\n",
    "# Customize the view angle so it's easier to see that the scatter points lie\n",
    "# on the plane y=0\n",
    "ax.view_init(elev=20., azim=-35, roll=0)\n",
    "\n",
    "plt.show()"
   ]
  }
 ],
 "metadata": {
  "kernelspec": {
   "display_name": "Python 3 (ipykernel)",
   "language": "python",
   "name": "python3"
  },
  "language_info": {
   "codemirror_mode": {
    "name": "ipython",
    "version": 3
   },
   "file_extension": ".py",
   "mimetype": "text/x-python",
   "name": "python",
   "nbconvert_exporter": "python",
   "pygments_lexer": "ipython3",
   "version": "3.11.4"
  }
 },
 "nbformat": 4,
 "nbformat_minor": 5
}
