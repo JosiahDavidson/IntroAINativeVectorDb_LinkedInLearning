{
 "cells": [
  {
   "cell_type": "code",
   "execution_count": null,
   "id": "f8d8b55a",
   "metadata": {},
   "outputs": [],
   "source": [
    "import requests\n",
    "import json\n",
    "\n",
    "# Download the data\n",
    "resp = requests.get('https://raw.githubusercontent.com/weaviate-tutorials/quickstart/main/data/jeopardy_tiny.json')\n",
    "data = json.loads(resp.text)  # Load data\n",
    "\n",
    "# Parse the JSON and preview it\n",
    "print(type(data), len(data))\n",
    "print(json.dumps(data[0], indent=2))\n",
    "\n",
    "def jprint(data):\n",
    "    print(json.dumps(data, indent=2))"
   ]
  },
  {
   "cell_type": "code",
   "execution_count": null,
   "id": "1e03dbaa",
   "metadata": {},
   "outputs": [],
   "source": [
    "import weaviate\n",
    "from weaviate import EmbeddedOptions\n",
    "import os\n",
    "\n",
    "client = weaviate.Client(\n",
    "    embedded_options=EmbeddedOptions(),\n",
    "    additional_headers={\n",
    "        \"X-OpenAI-Api-Key\": os.environ[\"OPENAI_API_KEY\"]  # Replace this with your actual key\n",
    "    }\n",
    ")"
   ]
  },
  {
   "cell_type": "code",
   "execution_count": null,
   "id": "246928db",
   "metadata": {},
   "outputs": [],
   "source": [
    "jprint(client.get_meta())"
   ]
  },
  {
   "cell_type": "code",
   "execution_count": null,
   "id": "8e104275",
   "metadata": {},
   "outputs": [],
   "source": [
    "if client.schema.exists(\"Question\"):\n",
    "    client.schema.delete_class(\"Question\")"
   ]
  },
  {
   "cell_type": "code",
   "execution_count": null,
   "id": "e18b6af2",
   "metadata": {},
   "outputs": [],
   "source": [
    "class_obj = {\n",
    "    \"class\": \"Question\",\n",
    "    \"vectorizer\": \"text2vec-openai\",  # If set to \"none\" you must always provide vectors yourself. Could be any other \"text2vec-*\" also.\n",
    "}\n",
    "\n",
    "client.schema.create_class(class_obj)"
   ]
  },
  {
   "cell_type": "code",
   "execution_count": null,
   "id": "380f4b73",
   "metadata": {},
   "outputs": [],
   "source": [
    "with client.batch.configure() as batch:\n",
    "    for i, d in enumerate(data):  # Batch import data\n",
    "        \n",
    "        print(f\"importing question: {i+1}\")\n",
    "        \n",
    "        properties = {\n",
    "            \"answer\": d[\"Answer\"],\n",
    "            \"question\": d[\"Question\"],\n",
    "            \"category\": d[\"Category\"],\n",
    "        }\n",
    "        \n",
    "        batch.add_data_object(\n",
    "            data_object=properties,\n",
    "            class_name=\"Question\"\n",
    "        )"
   ]
  },
  {
   "cell_type": "code",
   "execution_count": null,
   "id": "96800730",
   "metadata": {},
   "outputs": [],
   "source": [
    "jprint(client.query.aggregate(\"Question\").with_meta_count().do())"
   ]
  },
  {
   "cell_type": "code",
   "execution_count": null,
   "id": "a3be42d1",
   "metadata": {
    "scrolled": true
   },
   "outputs": [],
   "source": [
    "jprint(client.query.get(\"Question\", [\"question\",\"answer\"]).with_limit(3).do())"
   ]
  },
  {
   "cell_type": "markdown",
   "id": "46960fd2",
   "metadata": {},
   "source": [
    "----"
   ]
  },
  {
   "cell_type": "markdown",
   "id": "2679067f",
   "metadata": {},
   "source": [
    "## Lets Extract the vector that represents each question!"
   ]
  },
  {
   "cell_type": "code",
   "execution_count": null,
   "id": "284523c4",
   "metadata": {},
   "outputs": [],
   "source": [
    "# write a query to extract the vector for a question\n",
    "\n",
    "# ADD CODE HERE"
   ]
  },
  {
   "cell_type": "code",
   "execution_count": null,
   "id": "95645ce0",
   "metadata": {},
   "outputs": [],
   "source": [
    "#This is the question corresponding to this vector\n",
    "\n",
    "result['data']['Get'][\"Question\"][0]['question']"
   ]
  },
  {
   "cell_type": "code",
   "execution_count": null,
   "id": "87c15c85",
   "metadata": {},
   "outputs": [],
   "source": [
    "#This is the answer to this question\n",
    "\n",
    "result['data']['Get'][\"Question\"][0]['answer']"
   ]
  },
  {
   "cell_type": "code",
   "execution_count": null,
   "id": "d6c478a8",
   "metadata": {},
   "outputs": [],
   "source": [
    "#Now display the vector representation of the above question and answer\n",
    "\n",
    "# ADD CODE HERE"
   ]
  },
  {
   "cell_type": "code",
   "execution_count": null,
   "id": "0013c226",
   "metadata": {},
   "outputs": [],
   "source": [
    "#How many numbers are there in this vector?\n",
    "\n",
    "# ADD CODE HERE"
   ]
  },
  {
   "cell_type": "markdown",
   "id": "34907597",
   "metadata": {},
   "source": [
    "## We have sucessfully extracted the vector for this datapoint!"
   ]
  },
  {
   "cell_type": "markdown",
   "id": "b1317ea2",
   "metadata": {},
   "source": [
    "## Lets see if we can search for a relevant answer using vector search!"
   ]
  },
  {
   "cell_type": "code",
   "execution_count": null,
   "id": "173aba35",
   "metadata": {},
   "outputs": [],
   "source": [
    "#Build a vector search query to extract questions ,answers and categories related to \"biology\"\n",
    "\n",
    "# ADD CODE HERE\n",
    "\n",
    "print(json.dumps(response, indent=4))"
   ]
  },
  {
   "cell_type": "markdown",
   "id": "a511658c",
   "metadata": {},
   "source": [
    "## What is the distance between the `query`: `biology` and the returned objects?"
   ]
  },
  {
   "cell_type": "code",
   "execution_count": null,
   "id": "094e5d76",
   "metadata": {},
   "outputs": [],
   "source": [
    "#Write code to extract the distance between the query and returned object vectors\n",
    "\n",
    "# ADD CODE HERE\n",
    "\n",
    "print(json.dumps(response, indent=4))"
   ]
  },
  {
   "cell_type": "code",
   "execution_count": null,
   "id": "f280304b",
   "metadata": {},
   "outputs": [],
   "source": [
    "#Extract all 10 questions and analyze them based on distance/similarity to the query vector\n",
    "\n",
    "response = (\n",
    "    client.query\n",
    "    .get(\"Question\", [\"question\", \"answer\"])\n",
    "    .with_near_text({\"concepts\": [\"animals\"]})\n",
    "    .with_limit(10)\n",
    "    .with_additional([\"distance\"])\n",
    "    .do()\n",
    ")\n",
    "\n",
    "print(json.dumps(response, indent=2))"
   ]
  },
  {
   "cell_type": "markdown",
   "id": "a096c888",
   "metadata": {},
   "source": [
    "## Notice how as the responses get more irrelevant to the question that the distance between the `query`:`\"animals\"` and the response increases! - *The vectors are getting farther from each other!*"
   ]
  },
  {
   "cell_type": "markdown",
   "id": "d84e05fb",
   "metadata": {},
   "source": [
    "---"
   ]
  },
  {
   "cell_type": "markdown",
   "id": "b25b38cd",
   "metadata": {},
   "source": [
    "## We can let the vector database know to remove results after a threshold distance!"
   ]
  },
  {
   "cell_type": "code",
   "execution_count": null,
   "id": "329ae88b",
   "metadata": {},
   "outputs": [],
   "source": [
    "#Set a max distance threshold - What should the max distance be?\n",
    "\n",
    "# ADD CODE HERE"
   ]
  },
  {
   "cell_type": "markdown",
   "id": "c1fe24fe",
   "metadata": {},
   "source": [
    "## Now we prevented irrelevant results by removing vectors further then `max_distance` away!"
   ]
  }
 ],
 "metadata": {
  "kernelspec": {
   "display_name": "Python 3 (ipykernel)",
   "language": "python",
   "name": "python3"
  },
  "language_info": {
   "codemirror_mode": {
    "name": "ipython",
    "version": 3
   },
   "file_extension": ".py",
   "mimetype": "text/x-python",
   "name": "python",
   "nbconvert_exporter": "python",
   "pygments_lexer": "ipython3",
   "version": "3.11.4"
  }
 },
 "nbformat": 4,
 "nbformat_minor": 5
}
