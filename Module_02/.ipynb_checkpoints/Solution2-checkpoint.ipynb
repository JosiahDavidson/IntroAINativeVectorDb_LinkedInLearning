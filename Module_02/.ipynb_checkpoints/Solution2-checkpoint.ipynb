{
 "cells": [
  {
   "cell_type": "code",
   "execution_count": 12,
   "id": "07a62d15",
   "metadata": {},
   "outputs": [
    {
     "name": "stdout",
     "output_type": "stream",
     "text": [
      "<class 'list'> 1000\n",
      "{\n",
      "  \"Air Date\": \"2006-11-08\",\n",
      "  \"Round\": \"Double Jeopardy!\",\n",
      "  \"Value\": 800,\n",
      "  \"Category\": \"AMERICAN HISTORY\",\n",
      "  \"Question\": \"Abraham Lincoln died across the street from this theatre on April 15, 1865\",\n",
      "  \"Answer\": \"Ford's Theatre (the Ford Theatre accepted)\"\n",
      "}\n"
     ]
    }
   ],
   "source": [
    "import json\n",
    "\n",
    "with open('jeopardy_1k.json') as f:\n",
    "    data = json.load(f)\n",
    "\n",
    "print(type(data), len(data))\n",
    "print(json.dumps(data[0], indent=2))"
   ]
  },
  {
   "cell_type": "code",
   "execution_count": 4,
   "id": "1a611f7e",
   "metadata": {},
   "outputs": [
    {
     "name": "stdout",
     "output_type": "stream",
     "text": [
      "embedded weaviate is already listening on port 6666\n"
     ]
    }
   ],
   "source": [
    "import weaviate\n",
    "from weaviate import EmbeddedOptions\n",
    "import os\n",
    "\n",
    "client = weaviate.Client(\n",
    "    embedded_options=EmbeddedOptions(),\n",
    "    additional_headers={\n",
    "        \"X-OpenAI-Api-Key\": os.environ[\"OPENAI_API_KEY\"]  # Replace this with your actual key\n",
    "    }\n",
    ")"
   ]
  },
  {
   "cell_type": "code",
   "execution_count": 5,
   "id": "cf7636d7",
   "metadata": {},
   "outputs": [],
   "source": [
    "if client.schema.exists(\"Question\"):\n",
    "    client.schema.delete_class(\"Question\")"
   ]
  },
  {
   "cell_type": "code",
   "execution_count": 6,
   "id": "7d8bc098",
   "metadata": {},
   "outputs": [],
   "source": [
    "class_definition = {\n",
    "    \"class\": \"Question\",\n",
    "    \"vectorizer\": \"text2vec-openai\",\n",
    "    \"vectorIndexConfig\": {\n",
    "        \"distance\": \"cosine\",\n",
    "    },\n",
    "    \"properties\": [\n",
    "        {\n",
    "            \"name\": \"question\",\n",
    "            \"dataType\": [\"text\"]\n",
    "        },\n",
    "        {\n",
    "            \"name\": \"answer\",\n",
    "            \"dataType\": [\"text\"]\n",
    "        },\n",
    "        {\n",
    "            \"name\": \"round\",\n",
    "            \"dataType\": [\"text\"]\n",
    "        }\n",
    "    ],\n",
    "}\n",
    "\n",
    "client.schema.create_class(class_definition)"
   ]
  },
  {
   "cell_type": "code",
   "execution_count": 7,
   "id": "d0a2d2fc",
   "metadata": {},
   "outputs": [],
   "source": [
    "with client.batch() as batch:\n",
    "    for o in data:\n",
    "        obj_body = {\n",
    "            \"question\": o[\"Question\"],\n",
    "            \"answer\": o[\"Answer\"],\n",
    "            \"round\": o[\"Round\"]\n",
    "        }\n",
    "        batch.add_data_object(\n",
    "            data_object=obj_body,\n",
    "            class_name=\"Question\"\n",
    "        )"
   ]
  },
  {
   "cell_type": "code",
   "execution_count": 8,
   "id": "57f315e5",
   "metadata": {},
   "outputs": [
    {
     "name": "stdout",
     "output_type": "stream",
     "text": [
      "{\n",
      "  \"data\": {\n",
      "    \"Aggregate\": {\n",
      "      \"Question\": [\n",
      "        {\n",
      "          \"meta\": {\n",
      "            \"count\": 1000\n",
      "          }\n",
      "        }\n",
      "      ]\n",
      "    }\n",
      "  }\n",
      "}\n"
     ]
    }
   ],
   "source": [
    "print(json.dumps(client.query.aggregate(\"Question\").with_meta_count().do(),indent=2))"
   ]
  },
  {
   "cell_type": "code",
   "execution_count": 13,
   "id": "d8899328",
   "metadata": {},
   "outputs": [
    {
     "name": "stdout",
     "output_type": "stream",
     "text": [
      "{\n",
      "  \"data\": {\n",
      "    \"Get\": {\n",
      "      \"Question\": [\n",
      "        {\n",
      "          \"_additional\": {\n",
      "            \"distance\": 0.21115226\n",
      "          },\n",
      "          \"answer\": \"The Mary Tyler Moore Show\",\n",
      "          \"question\": \"In a classic episode of this show, Chuckles the Clown, dressed as a peanut, is killed by an elephant\"\n",
      "        },\n",
      "        {\n",
      "          \"_additional\": {\n",
      "            \"distance\": 0.2117638\n",
      "          },\n",
      "          \"answer\": \"Beauty and the Beast of Burden\",\n",
      "          \"question\": \"Disney musical about a pretty girl named Belle & her hideous camel\"\n",
      "        },\n",
      "        {\n",
      "          \"_additional\": {\n",
      "            \"distance\": 0.21404725\n",
      "          },\n",
      "          \"answer\": \"a sheep\",\n",
      "          \"question\": \"In 1997 the world said \\\"Hello Dolly\\\" to one of these mammals, the first successfully cloned\"\n",
      "        },\n",
      "        {\n",
      "          \"_additional\": {\n",
      "            \"distance\": 0.2182712\n",
      "          },\n",
      "          \"answer\": \"Bull moose\",\n",
      "          \"question\": \"When he began his Progressive Party, Teddy Roosevelt said he felt as fit as one of these animals\"\n",
      "        },\n",
      "        {\n",
      "          \"_additional\": {\n",
      "            \"distance\": 0.2186749\n",
      "          },\n",
      "          \"answer\": \"a dragon\",\n",
      "          \"question\": \"In \\\"Siegfried\\\" Fafner the giant is turned into one of these mythical beasts before Siegfried slays him\"\n",
      "        }\n",
      "      ]\n",
      "    }\n",
      "  }\n",
      "}\n"
     ]
    }
   ],
   "source": [
    "response = (\n",
    "    client.query\n",
    "    .get(\"Question\", [\"question\", \"answer\"])\n",
    "    .with_near_text({\"concepts\": [\"animals in movies\"]})\n",
    "    .with_additional([\"distance\"])\n",
    "    .with_limit(5)\n",
    "    .do()\n",
    ")\n",
    "\n",
    "print(json.dumps(response, indent=2))"
   ]
  },
  {
   "cell_type": "code",
   "execution_count": 11,
   "id": "279936bb",
   "metadata": {},
   "outputs": [
    {
     "name": "stdout",
     "output_type": "stream",
     "text": [
      "{\n",
      "  \"data\": {\n",
      "    \"Get\": {\n",
      "      \"Question\": [\n",
      "        {\n",
      "          \"_additional\": {\n",
      "            \"distance\": 0.21859759\n",
      "          },\n",
      "          \"answer\": \"Beauty and the Beast of Burden\",\n",
      "          \"question\": \"Disney musical about a pretty girl named Belle & her hideous camel\",\n",
      "          \"round\": \"Double Jeopardy!\"\n",
      "        },\n",
      "        {\n",
      "          \"_additional\": {\n",
      "            \"distance\": 0.22270876\n",
      "          },\n",
      "          \"answer\": \"a dragon\",\n",
      "          \"question\": \"In \\\"Siegfried\\\" Fafner the giant is turned into one of these mythical beasts before Siegfried slays him\",\n",
      "          \"round\": \"Double Jeopardy!\"\n",
      "        },\n",
      "        {\n",
      "          \"_additional\": {\n",
      "            \"distance\": 0.22984684\n",
      "          },\n",
      "          \"answer\": \"The Firebird\",\n",
      "          \"question\": \"This title character has the face & arms of a woman & a body of feathers that tapers off in flames\",\n",
      "          \"round\": \"Double Jeopardy!\"\n",
      "        }\n",
      "      ]\n",
      "    }\n",
      "  }\n",
      "}\n"
     ]
    }
   ],
   "source": [
    "response = (\n",
    "    client.query\n",
    "    .get(\"Question\", [\"question\", \"answer\", \"round\"])\n",
    "    .with_near_text({\"concepts\": [\"animals in movies\"]})\n",
    "    .with_limit(3)\n",
    "    .with_additional([\"distance\"])\n",
    "    .with_where({\n",
    "        \"path\": [\"round\"],\n",
    "        \"operator\": \"Equal\",\n",
    "        \"valueText\": \"Double Jeopardy!\"\n",
    "    })\n",
    "    .do()\n",
    ")\n",
    "\n",
    "print(json.dumps(response, indent=2))"
   ]
  }
 ],
 "metadata": {
  "kernelspec": {
   "display_name": "Python 3 (ipykernel)",
   "language": "python",
   "name": "python3"
  },
  "language_info": {
   "codemirror_mode": {
    "name": "ipython",
    "version": 3
   },
   "file_extension": ".py",
   "mimetype": "text/x-python",
   "name": "python",
   "nbconvert_exporter": "python",
   "pygments_lexer": "ipython3",
   "version": "3.11.4"
  }
 },
 "nbformat": 4,
 "nbformat_minor": 5
}
