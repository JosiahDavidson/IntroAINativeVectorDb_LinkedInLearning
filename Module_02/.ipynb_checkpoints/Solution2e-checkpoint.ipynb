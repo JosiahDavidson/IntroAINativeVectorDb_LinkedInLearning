{
 "cells": [
  {
   "cell_type": "markdown",
   "id": "b75bdcc7",
   "metadata": {},
   "source": [
    "1. Load up the 1K jeopardy dataset that has 1000 objects in total, keep at least the question, answer and round properties.\n",
    "2. How do you check for the number of objects stored in the database?\n",
    "3. Search for objects that are close to the concept of “animals in movies” and show 5 QnA\n",
    "4. Can you find “animals in movies” related questions that were used in Double Jeopardy rounds?\n",
    "\n",
    "\n",
    "### Q1: Load up the dataset,  keep at least the question, answer and round properties."
   ]
  },
  {
   "cell_type": "code",
   "execution_count": 4,
   "id": "07a62d15",
   "metadata": {},
   "outputs": [
    {
     "name": "stdout",
     "output_type": "stream",
     "text": [
      "<class 'list'> 1000\n",
      "{\n",
      "  \"Air Date\": \"2005-11-18\",\n",
      "  \"Round\": \"Jeopardy!\",\n",
      "  \"Value\": 200,\n",
      "  \"Category\": \"RHYME TIME\",\n",
      "  \"Question\": \"Any pigment on the wall so faded you can barely see it\",\n",
      "  \"Answer\": \"faint paint\"\n",
      "}\n"
     ]
    }
   ],
   "source": [
    "import requests\n",
    "import json\n",
    "\n",
    "# Download the data\n",
    "resp = requests.get('https://raw.githubusercontent.com/weaviate-tutorials/intro-workshop/main/data/jeopardy_1k.json')\n",
    "data = json.loads(resp.text)  # Load data\n",
    "\n",
    "# Parse the JSON and preview it\n",
    "print(type(data), len(data))\n",
    "print(json.dumps(data[1], indent=2))"
   ]
  },
  {
   "cell_type": "code",
   "execution_count": 4,
   "id": "1a611f7e",
   "metadata": {},
   "outputs": [
    {
     "name": "stdout",
     "output_type": "stream",
     "text": [
      "embedded weaviate is already listening on port 6666\n"
     ]
    }
   ],
   "source": [
    "import weaviate\n",
    "from weaviate import EmbeddedOptions\n",
    "import os\n",
    "\n",
    "client = weaviate.Client(\n",
    "    embedded_options=EmbeddedOptions(),\n",
    "    additional_headers={\n",
    "        \"X-OpenAI-Api-Key\": os.environ[\"OPENAI_API_KEY\"]  # Replace this with your actual key\n",
    "    }\n",
    ")"
   ]
  },
  {
   "cell_type": "code",
   "execution_count": 5,
   "id": "cf7636d7",
   "metadata": {},
   "outputs": [],
   "source": [
    "if client.schema.exists(\"Question\"):\n",
    "    client.schema.delete_class(\"Question\")"
   ]
  },
  {
   "cell_type": "code",
   "execution_count": 6,
   "id": "7d8bc098",
   "metadata": {},
   "outputs": [],
   "source": [
    "class_definition = {\n",
    "    \"class\": \"Question\",\n",
    "    \"vectorizer\": \"text2vec-openai\",\n",
    "    \"vectorIndexConfig\": {\n",
    "        \"distance\": \"cosine\",\n",
    "    },\n",
    "    \"properties\": [\n",
    "        {\n",
    "            \"name\": \"question\",\n",
    "            \"dataType\": [\"text\"]\n",
    "        },\n",
    "        {\n",
    "            \"name\": \"answer\",\n",
    "            \"dataType\": [\"text\"]\n",
    "        },\n",
    "        {\n",
    "            \"name\": \"round\",\n",
    "            \"dataType\": [\"text\"]\n",
    "        }\n",
    "    ],\n",
    "}\n",
    "\n",
    "client.schema.create_class(class_definition)"
   ]
  },
  {
   "cell_type": "code",
   "execution_count": 7,
   "id": "d0a2d2fc",
   "metadata": {},
   "outputs": [],
   "source": [
    "with client.batch() as batch:\n",
    "    for o in data:\n",
    "        obj_body = {\n",
    "            \"question\": o[\"Question\"],\n",
    "            \"answer\": o[\"Answer\"],\n",
    "            \"round\": o[\"Round\"]\n",
    "        }\n",
    "        batch.add_data_object(\n",
    "            data_object=obj_body,\n",
    "            class_name=\"Question\"\n",
    "        )"
   ]
  },
  {
   "cell_type": "markdown",
   "id": "1a5280a9",
   "metadata": {},
   "source": [
    "### Q2. How do you check for the number of objects stored in the database?"
   ]
  },
  {
   "cell_type": "code",
   "execution_count": 8,
   "id": "57f315e5",
   "metadata": {},
   "outputs": [
    {
     "name": "stdout",
     "output_type": "stream",
     "text": [
      "{\n",
      "  \"data\": {\n",
      "    \"Aggregate\": {\n",
      "      \"Question\": [\n",
      "        {\n",
      "          \"meta\": {\n",
      "            \"count\": 1000\n",
      "          }\n",
      "        }\n",
      "      ]\n",
      "    }\n",
      "  }\n",
      "}\n"
     ]
    }
   ],
   "source": [
    "print(json.dumps(client.query.aggregate(\"Question\").with_meta_count().do(),indent=2))"
   ]
  },
  {
   "cell_type": "markdown",
   "id": "5c0943f5",
   "metadata": {},
   "source": [
    "### 3. Search for objects that are close to the concept of “animals in movies” and show 5 QnA"
   ]
  },
  {
   "cell_type": "code",
   "execution_count": 13,
   "id": "d8899328",
   "metadata": {},
   "outputs": [
    {
     "name": "stdout",
     "output_type": "stream",
     "text": [
      "{\n",
      "  \"data\": {\n",
      "    \"Get\": {\n",
      "      \"Question\": [\n",
      "        {\n",
      "          \"_additional\": {\n",
      "            \"distance\": 0.21115226\n",
      "          },\n",
      "          \"answer\": \"The Mary Tyler Moore Show\",\n",
      "          \"question\": \"In a classic episode of this show, Chuckles the Clown, dressed as a peanut, is killed by an elephant\"\n",
      "        },\n",
      "        {\n",
      "          \"_additional\": {\n",
      "            \"distance\": 0.2117638\n",
      "          },\n",
      "          \"answer\": \"Beauty and the Beast of Burden\",\n",
      "          \"question\": \"Disney musical about a pretty girl named Belle & her hideous camel\"\n",
      "        },\n",
      "        {\n",
      "          \"_additional\": {\n",
      "            \"distance\": 0.21404725\n",
      "          },\n",
      "          \"answer\": \"a sheep\",\n",
      "          \"question\": \"In 1997 the world said \\\"Hello Dolly\\\" to one of these mammals, the first successfully cloned\"\n",
      "        },\n",
      "        {\n",
      "          \"_additional\": {\n",
      "            \"distance\": 0.2182712\n",
      "          },\n",
      "          \"answer\": \"Bull moose\",\n",
      "          \"question\": \"When he began his Progressive Party, Teddy Roosevelt said he felt as fit as one of these animals\"\n",
      "        },\n",
      "        {\n",
      "          \"_additional\": {\n",
      "            \"distance\": 0.2186749\n",
      "          },\n",
      "          \"answer\": \"a dragon\",\n",
      "          \"question\": \"In \\\"Siegfried\\\" Fafner the giant is turned into one of these mythical beasts before Siegfried slays him\"\n",
      "        }\n",
      "      ]\n",
      "    }\n",
      "  }\n",
      "}\n"
     ]
    }
   ],
   "source": [
    "response = (\n",
    "    client.query\n",
    "    .get(\"Question\", [\"question\", \"answer\"])\n",
    "    .with_near_text({\"concepts\": [\"animals in movies\"]})\n",
    "    .with_additional([\"distance\"])\n",
    "    .with_limit(5)\n",
    "    .do()\n",
    ")\n",
    "\n",
    "print(json.dumps(response, indent=2))"
   ]
  },
  {
   "cell_type": "markdown",
   "id": "ec604d4b",
   "metadata": {},
   "source": [
    "### 4. Can you find “animals in movies” related questions that were used in Double Jeopardy rounds?"
   ]
  },
  {
   "cell_type": "code",
   "execution_count": 11,
   "id": "279936bb",
   "metadata": {},
   "outputs": [
    {
     "name": "stdout",
     "output_type": "stream",
     "text": [
      "{\n",
      "  \"data\": {\n",
      "    \"Get\": {\n",
      "      \"Question\": [\n",
      "        {\n",
      "          \"_additional\": {\n",
      "            \"distance\": 0.21859759\n",
      "          },\n",
      "          \"answer\": \"Beauty and the Beast of Burden\",\n",
      "          \"question\": \"Disney musical about a pretty girl named Belle & her hideous camel\",\n",
      "          \"round\": \"Double Jeopardy!\"\n",
      "        },\n",
      "        {\n",
      "          \"_additional\": {\n",
      "            \"distance\": 0.22270876\n",
      "          },\n",
      "          \"answer\": \"a dragon\",\n",
      "          \"question\": \"In \\\"Siegfried\\\" Fafner the giant is turned into one of these mythical beasts before Siegfried slays him\",\n",
      "          \"round\": \"Double Jeopardy!\"\n",
      "        },\n",
      "        {\n",
      "          \"_additional\": {\n",
      "            \"distance\": 0.22984684\n",
      "          },\n",
      "          \"answer\": \"The Firebird\",\n",
      "          \"question\": \"This title character has the face & arms of a woman & a body of feathers that tapers off in flames\",\n",
      "          \"round\": \"Double Jeopardy!\"\n",
      "        }\n",
      "      ]\n",
      "    }\n",
      "  }\n",
      "}\n"
     ]
    }
   ],
   "source": [
    "response = (\n",
    "    client.query\n",
    "    .get(\"Question\", [\"question\", \"answer\", \"round\"])\n",
    "    .with_near_text({\"concepts\": [\"animals in movies\"]})\n",
    "    .with_limit(3)\n",
    "    .with_additional([\"distance\"])\n",
    "    .with_where({\n",
    "        \"path\": [\"round\"],\n",
    "        \"operator\": \"Equal\",\n",
    "        \"valueText\": \"Double Jeopardy!\"\n",
    "    })\n",
    "    .do()\n",
    ")\n",
    "\n",
    "print(json.dumps(response, indent=2))"
   ]
  }
 ],
 "metadata": {
  "kernelspec": {
   "display_name": "Python 3 (ipykernel)",
   "language": "python",
   "name": "python3"
  },
  "language_info": {
   "codemirror_mode": {
    "name": "ipython",
    "version": 3
   },
   "file_extension": ".py",
   "mimetype": "text/x-python",
   "name": "python",
   "nbconvert_exporter": "python",
   "pygments_lexer": "ipython3",
   "version": "3.11.4"
  }
 },
 "nbformat": 4,
 "nbformat_minor": 5
}
