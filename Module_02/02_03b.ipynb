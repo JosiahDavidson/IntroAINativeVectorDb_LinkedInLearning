{
 "cells": [
  {
   "cell_type": "markdown",
   "id": "07b82336",
   "metadata": {},
   "source": [
    "### Load the data"
   ]
  },
  {
   "cell_type": "code",
   "execution_count": null,
   "id": "44467843",
   "metadata": {},
   "outputs": [],
   "source": [
    "import requests\n",
    "import json\n",
    "\n",
    "# Download the data\n",
    "resp = requests.get('https://raw.githubusercontent.com/weaviate-tutorials/quickstart/main/data/jeopardy_tiny.json')\n",
    "data = json.loads(resp.text)  # Load data\n",
    "\n",
    "# Parse the JSON and preview it\n",
    "\n",
    "# ADD CODE HERE"
   ]
  },
  {
   "cell_type": "code",
   "execution_count": null,
   "id": "94dbf819",
   "metadata": {},
   "outputs": [],
   "source": [
    "def json_print(data):\n",
    "    print(json.dumps(data, indent=2))"
   ]
  },
  {
   "cell_type": "code",
   "execution_count": null,
   "id": "0e776024",
   "metadata": {},
   "outputs": [],
   "source": [
    "#Print out the rest of the data\n",
    "\n",
    "# ADD CODE HERE"
   ]
  },
  {
   "cell_type": "markdown",
   "id": "9f37e708",
   "metadata": {},
   "source": [
    "### Now we're going to initialize Weaviate - our vector DB"
   ]
  },
  {
   "cell_type": "code",
   "execution_count": 1,
   "id": "43bc0c69",
   "metadata": {},
   "outputs": [],
   "source": [
    "import weaviate\n",
    "from weaviate import EmbeddedOptions\n",
    "import os\n",
    "\n",
    "\n",
    "#Start up an instance of Weaviate\n",
    "\n",
    "# ADD CODE HERE\n"
   ]
  },
  {
   "cell_type": "code",
   "execution_count": null,
   "id": "153abe7d",
   "metadata": {},
   "outputs": [],
   "source": [
    "#Check that weaviate is up and running\n",
    "\n",
    "# ADD CODE HERE"
   ]
  },
  {
   "cell_type": "code",
   "execution_count": null,
   "id": "b214fce9",
   "metadata": {},
   "outputs": [],
   "source": [
    "#Delete the schema if it alredy exists\n",
    "if client.schema.exists(\"Question\"):\n",
    "    client.schema.delete_class(\"Question\")"
   ]
  },
  {
   "cell_type": "code",
   "execution_count": null,
   "id": "c5ad3bdb",
   "metadata": {},
   "outputs": [],
   "source": [
    "#Create the schema that will house our data\n",
    "class_obj = {\n",
    "    \"class\": \"Question\",\n",
    "    \"vectorizer\": \"text2vec-openai\",  \n",
    "}\n",
    "\n",
    "#Use the object above to create the schema\n",
    "# ADD CODE HERE"
   ]
  },
  {
   "cell_type": "code",
   "execution_count": null,
   "id": "3ea81ea7",
   "metadata": {},
   "outputs": [],
   "source": [
    "with client.batch.configure() as batch:\n",
    "    for i, d in enumerate(data):  # Batch import data\n",
    "        \n",
    "        print(f\"importing question: {i+1}\")\n",
    "            \n",
    "        #Specify the properties we want to import into Weviate\n",
    "        \n",
    "        # ADD CODE HERE\n",
    "        \n",
    "        #Add data to Weaviate\n",
    "        \n",
    "        # ADD CODE HERE"
   ]
  },
  {
   "cell_type": "code",
   "execution_count": null,
   "id": "dab0b6da",
   "metadata": {},
   "outputs": [],
   "source": [
    "#Check how many objects we've loaded into the database\n",
    "\n",
    "# ADD CODE HERE"
   ]
  },
  {
   "cell_type": "code",
   "execution_count": null,
   "id": "541e263e",
   "metadata": {},
   "outputs": [],
   "source": [
    "#Extract and show any 3 questions and answers\n",
    "\n",
    "# ADD CODE HERE"
   ]
  }
 ],
 "metadata": {
  "kernelspec": {
   "display_name": "Python 3 (ipykernel)",
   "language": "python",
   "name": "python3"
  },
  "language_info": {
   "codemirror_mode": {
    "name": "ipython",
    "version": 3
   },
   "file_extension": ".py",
   "mimetype": "text/x-python",
   "name": "python",
   "nbconvert_exporter": "python",
   "pygments_lexer": "ipython3",
   "version": "3.11.4"
  }
 },
 "nbformat": 4,
 "nbformat_minor": 5
}
