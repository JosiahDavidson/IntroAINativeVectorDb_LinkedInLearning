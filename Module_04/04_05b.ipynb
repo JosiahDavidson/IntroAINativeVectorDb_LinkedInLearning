{
 "cells": [
  {
   "cell_type": "markdown",
   "id": "62d160d2",
   "metadata": {},
   "source": [
    "## Challenge 4\n",
    "\n",
    "1. Use the URL and API key to connect to the Weaviate instance\n",
    "2. How many vectors are stored in this database\n",
    "3. Perform search over them to find concepts you are interested in!\n",
    "4. See if you can filter out for a particular language that you understand and then perform vector search to see if you get back relevant results.\n"
   ]
  },
  {
   "cell_type": "markdown",
   "id": "51aa754e",
   "metadata": {},
   "source": [
    "### 1. Use the URL and API key to connect to the Weaviate instance\n",
    "```python\n",
    "url=\"https://cohere-demo.weaviate.network/\"\n",
    "api_key=\"76320a90-53d8-42bc-b41d-678647c6672e\"\n",
    "```"
   ]
  },
  {
   "cell_type": "code",
   "execution_count": null,
   "id": "8f840bfe-d592-414e-90ce-a04dfc3cd87e",
   "metadata": {},
   "outputs": [],
   "source": [
    "import weaviate, os, json\n",
    "\n",
    "cohere_api_key = os.getenv(\"COHERE_API_KEY\")\n",
    "\n",
    "auth_config = weaviate.auth.AuthApiKey(# ADD CODE HERE)\n",
    "\n",
    "client = weaviate.Client(\n",
    "    url= #ADD CODE HERE\n",
    "    auth_client_secret=auth_config,\n",
    "    additional_headers={\n",
    "        \"X-Cohere-Api-Key\": cohere_api_key, #You will also need Cohere API key\n",
    "    }\n",
    ")\n",
    "\n",
    "client.is_ready() #check if True"
   ]
  },
  {
   "cell_type": "markdown",
   "id": "531af593",
   "metadata": {},
   "source": [
    "### 2. How many vectors are stored in this database"
   ]
  },
  {
   "cell_type": "code",
   "execution_count": null,
   "id": "3be28bf2",
   "metadata": {},
   "outputs": [],
   "source": [
    "# ADD CODE HERE"
   ]
  },
  {
   "cell_type": "markdown",
   "id": "6c26b472",
   "metadata": {},
   "source": [
    "### 3. Perform search over them to find concepts you are interested in!"
   ]
  },
  {
   "cell_type": "code",
   "execution_count": null,
   "id": "081d4637",
   "metadata": {},
   "outputs": [],
   "source": [
    "response = # ADD CODE HERE\n",
    "\n",
    "print(json.dumps(response, indent=2))"
   ]
  },
  {
   "cell_type": "markdown",
   "id": "31412ad1",
   "metadata": {},
   "source": [
    "### 4. See if you can filter out for a particular language that you understand and then perform vector search to see if you get back relevant results."
   ]
  },
  {
   "cell_type": "code",
   "execution_count": null,
   "id": "3987c132-06ca-4ee4-a1a9-c6ac04fd7f09",
   "metadata": {},
   "outputs": [],
   "source": [
    "nearText = # ADD CODE HERE\n",
    "\n",
    "properties = [\n",
    "        \"text\", \"title\", \"url\", \"views\", \"lang\",\n",
    "        \"_additional {distance}\"\n",
    "    ]\n",
    "\n",
    "where_filter = # ADD CODE HERE"
   ]
  },
  {
   "cell_type": "code",
   "execution_count": null,
   "id": "cae530bd",
   "metadata": {},
   "outputs": [],
   "source": [
    "response = # ADD CODE HERE\n",
    "\n",
    "print(json.dumps(response,indent=2))"
   ]
  },
  {
   "cell_type": "markdown",
   "id": "95b979f8",
   "metadata": {},
   "source": [
    "### Below I've provided you a function to put all of this together and explore interesting multilingual searches"
   ]
  },
  {
   "cell_type": "code",
   "execution_count": null,
   "id": "3c8309fd",
   "metadata": {},
   "outputs": [],
   "source": [
    "def semantic_serch(query, results_lang=''):\n",
    "    \"\"\" \n",
    "    Query the vectors database and return the top results. \n",
    "\n",
    "\n",
    "    Parameters\n",
    "    ----------\n",
    "        query: str\n",
    "            The search query\n",
    "            \n",
    "        results_lang: str (optional)\n",
    "            Retrieve results only in the specified language.\n",
    "            The demo dataset has those languages:\n",
    "            en, de, fr, es, it, ja, ar, zh, ko, hi\n",
    "\n",
    "    \"\"\"\n",
    "    \n",
    "    nearText = {\"concepts\": [query]}\n",
    "    properties = [\"text\", \"title\", \"url\", \"views\", \"lang\", \"_additional {distance}\"]\n",
    "\n",
    "    # To filter by language\n",
    "    if results_lang != '':\n",
    "        where_filter = {\n",
    "        \"path\": [\"lang\"],\n",
    "        \"operator\": \"Equal\",\n",
    "        \"valueString\": results_lang\n",
    "        }\n",
    "        response = (\n",
    "            client.query\n",
    "            .get(\"Articles\", properties)\n",
    "            .with_where(where_filter)\n",
    "            .with_near_text(nearText)\n",
    "            .with_limit(5)\n",
    "            .do()\n",
    "        )\n",
    "        \n",
    "    # Search all languages\n",
    "    else:\n",
    "        response = (\n",
    "            client.query\n",
    "            .get(\"Articles\", properties)\n",
    "            .with_near_text(nearText)\n",
    "            .with_limit(5)\n",
    "            .do()\n",
    "        )\n",
    "\n",
    "\n",
    "    result = response['data']['Get']['Articles']\n",
    "\n",
    "    return result\n",
    "\n",
    "\n",
    "def print_result(result):\n",
    "    \"\"\" Print results with colorful formatting \"\"\"\n",
    "    for item in result:\n",
    "        print(f\"\\033[95m{item['title']} ({item['views']}) {item['_additional']['distance']}\\033[0m\")\n",
    "        print(f\"\\033[4m{item['url']}\\033[0m\")\n",
    "        print(item['text'])\n",
    "        print()"
   ]
  },
  {
   "cell_type": "code",
   "execution_count": null,
   "id": "67e9be31-9754-4d74-8600-43fa0840e26c",
   "metadata": {},
   "outputs": [],
   "source": [
    "query_result = semantic_serch(\"easy to cook tasty meals\", results_lang='ja')\n",
    "\n",
    "# Print out the result\n",
    "print_result(query_result)"
   ]
  }
 ],
 "metadata": {
  "kernelspec": {
   "display_name": "Python 3 (ipykernel)",
   "language": "python",
   "name": "python3"
  },
  "language_info": {
   "codemirror_mode": {
    "name": "ipython",
    "version": 3
   },
   "file_extension": ".py",
   "mimetype": "text/x-python",
   "name": "python",
   "nbconvert_exporter": "python",
   "pygments_lexer": "ipython3",
   "version": "3.11.4"
  }
 },
 "nbformat": 4,
 "nbformat_minor": 5
}
