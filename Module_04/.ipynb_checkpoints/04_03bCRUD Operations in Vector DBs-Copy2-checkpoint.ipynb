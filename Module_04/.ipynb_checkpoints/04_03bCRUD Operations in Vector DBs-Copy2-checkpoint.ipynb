{
 "cells": [
  {
   "cell_type": "markdown",
   "id": "47acea2e",
   "metadata": {},
   "source": [
    "### As usual we setup Weaviate"
   ]
  },
  {
   "cell_type": "code",
   "execution_count": null,
   "id": "2b24fea1",
   "metadata": {},
   "outputs": [],
   "source": [
    "import requests\n",
    "import json\n",
    "\n",
    "# Download the data\n",
    "resp = requests.get('https://raw.githubusercontent.com/weaviate-tutorials/quickstart/main/data/jeopardy_tiny.json')\n",
    "data = json.loads(resp.text)  # Load data\n",
    "\n",
    "# Parse the JSON and preview it\n",
    "print(type(data), len(data))\n",
    "print(json.dumps(data[0], indent=2))\n",
    "\n",
    "def json_print(data):\n",
    "    print(json.dumps(data, indent=2))"
   ]
  },
  {
   "cell_type": "code",
   "execution_count": null,
   "id": "848700bc",
   "metadata": {},
   "outputs": [],
   "source": [
    "#Start Weaviate in embedded mode and specify an OpenAI API key\n",
    "\n",
    "import weaviate\n",
    "from weaviate import EmbeddedOptions\n",
    "import os\n",
    "\n",
    "client = weaviate.Client(\n",
    "    embedded_options=EmbeddedOptions(),\n",
    "    additional_headers={\n",
    "        \"X-OpenAI-Api-Key\": os.environ[\"OPENAI_API_KEY\"]  # Replace this with your actual key\n",
    "    }\n",
    ")"
   ]
  },
  {
   "cell_type": "code",
   "execution_count": null,
   "id": "7a51bfe3",
   "metadata": {},
   "outputs": [],
   "source": [
    "if client.schema.exists(\"Question\"):\n",
    "    client.schema.delete_class(\"Question\")"
   ]
  },
  {
   "cell_type": "code",
   "execution_count": null,
   "id": "fc01727f",
   "metadata": {},
   "outputs": [],
   "source": [
    "class_obj = {\n",
    "    \"class\": \"Question\",\n",
    "    \"vectorizer\": \"text2vec-openai\",  \n",
    "}\n",
    "\n",
    "client.schema.create_class(class_obj)"
   ]
  },
  {
   "cell_type": "markdown",
   "id": "b75ce581",
   "metadata": {},
   "source": [
    "### Create an object by specifying a question, answer and category property"
   ]
  },
  {
   "cell_type": "code",
   "execution_count": null,
   "id": "654c193a",
   "metadata": {},
   "outputs": [],
   "source": [
    "#Create an object\n",
    "\n",
    "#ADD CODE HERE"
   ]
  },
  {
   "cell_type": "markdown",
   "id": "40700abe",
   "metadata": {},
   "source": [
    "### Read object"
   ]
  },
  {
   "cell_type": "code",
   "execution_count": null,
   "id": "503771e1",
   "metadata": {},
   "outputs": [],
   "source": [
    "#Read the object that we just created using it ID\n",
    "\n",
    "#ADD CODE HERE"
   ]
  },
  {
   "cell_type": "code",
   "execution_count": null,
   "id": "fa6884e2",
   "metadata": {},
   "outputs": [],
   "source": [
    "#Extract the vector for this object\n",
    "\n",
    "data_object = client.data_object.get_by_id(\n",
    "    'd466453b-e7b3-442f-b1ef-becac6b9c7e1',\n",
    "    class_name='Question',\n",
    "    with_vector=True\n",
    ")\n",
    "\n",
    "print(json.dumps(data_object, indent=2))"
   ]
  },
  {
   "cell_type": "markdown",
   "id": "6e7b8266",
   "metadata": {},
   "source": [
    "### Update object"
   ]
  },
  {
   "cell_type": "code",
   "execution_count": null,
   "id": "9df0b25d",
   "metadata": {},
   "outputs": [],
   "source": [
    "#Update the object with a more detailed answer\n",
    "\n",
    "#ADD CODE HERE"
   ]
  },
  {
   "cell_type": "code",
   "execution_count": null,
   "id": "5d666e88",
   "metadata": {},
   "outputs": [],
   "source": [
    "data_object = client.data_object.get_by_id(\n",
    "    'd466453b-e7b3-442f-b1ef-becac6b9c7e1',\n",
    "    class_name='Question',\n",
    ")\n",
    "\n",
    "print(json.dumps(data_object, indent=2))"
   ]
  },
  {
   "cell_type": "markdown",
   "id": "01c7b036",
   "metadata": {},
   "source": [
    "### Delete object"
   ]
  },
  {
   "cell_type": "code",
   "execution_count": null,
   "id": "6cf790f9",
   "metadata": {},
   "outputs": [],
   "source": [
    "#Delete the object using its ID\n",
    "\n",
    "#ADD CODE HERE"
   ]
  },
  {
   "cell_type": "code",
   "execution_count": null,
   "id": "ffec1029",
   "metadata": {},
   "outputs": [],
   "source": [
    "#Examine that our database is empty\n",
    "\n",
    "json_print(client.query.aggregate(\"Question\").with_meta_count().do())"
   ]
  }
 ],
 "metadata": {
  "kernelspec": {
   "display_name": "Python 3 (ipykernel)",
   "language": "python",
   "name": "python3"
  },
  "language_info": {
   "codemirror_mode": {
    "name": "ipython",
    "version": 3
   },
   "file_extension": ".py",
   "mimetype": "text/x-python",
   "name": "python",
   "nbconvert_exporter": "python",
   "pygments_lexer": "ipython3",
   "version": "3.11.4"
  }
 },
 "nbformat": 4,
 "nbformat_minor": 5
}
