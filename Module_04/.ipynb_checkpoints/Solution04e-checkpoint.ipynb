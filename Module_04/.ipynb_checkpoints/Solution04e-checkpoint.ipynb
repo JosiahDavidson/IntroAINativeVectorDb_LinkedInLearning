{
 "cells": [
  {
   "cell_type": "markdown",
   "id": "62d160d2",
   "metadata": {},
   "source": [
    "## Challenge 4\n",
    "\n",
    "1. Use the URL and API key to connect to the Weaviate instance\n",
    "2. How many vectors are stored in this database\n",
    "3. Perform search over them to find concepts you are interested in!\n",
    "4. See if you can filter out for a particular language that you understand and then perform vector search to see if you get back relevant results.\n"
   ]
  },
  {
   "cell_type": "markdown",
   "id": "51aa754e",
   "metadata": {},
   "source": [
    "### 1. Use the URL and API key to connect to the Weaviate instance\n",
    "```python\n",
    "url=\"https://cohere-demo.weaviate.network/\"\n",
    "api_key=\"76320a90-53d8-42bc-b41d-678647c6672e\"\n",
    "```"
   ]
  },
  {
   "cell_type": "code",
   "execution_count": 19,
   "id": "8f840bfe-d592-414e-90ce-a04dfc3cd87e",
   "metadata": {},
   "outputs": [
    {
     "data": {
      "text/plain": [
       "True"
      ]
     },
     "execution_count": 19,
     "metadata": {},
     "output_type": "execute_result"
    }
   ],
   "source": [
    "import weaviate, os, json\n",
    "\n",
    "cohere_api_key = os.getenv(\"COHERE_API_KEY\")\n",
    "\n",
    "auth_config = weaviate.auth.AuthApiKey(api_key=\"76320a90-53d8-42bc-b41d-678647c6672e\") \n",
    "\n",
    "client = weaviate.Client(\n",
    "    url=\"https://cohere-demo.weaviate.network/\",\n",
    "    auth_client_secret=auth_config,\n",
    "    additional_headers={\n",
    "        \"X-Cohere-Api-Key\": cohere_api_key,\n",
    "    }\n",
    ")\n",
    "\n",
    "client.is_ready() #check if True"
   ]
  },
  {
   "cell_type": "markdown",
   "id": "531af593",
   "metadata": {},
   "source": [
    "### 2. How many vectors are stored in this database"
   ]
  },
  {
   "cell_type": "code",
   "execution_count": 18,
   "id": "3be28bf2",
   "metadata": {},
   "outputs": [
    {
     "name": "stdout",
     "output_type": "stream",
     "text": [
      "{\n",
      "  \"data\": {\n",
      "    \"Aggregate\": {\n",
      "      \"Articles\": [\n",
      "        {\n",
      "          \"meta\": {\n",
      "            \"count\": 9436199\n",
      "          }\n",
      "        }\n",
      "      ]\n",
      "    }\n",
      "  }\n",
      "}\n"
     ]
    }
   ],
   "source": [
    "print(json.dumps(client.query.aggregate(\"Articles\").with_meta_count().do(),indent=2))"
   ]
  },
  {
   "cell_type": "markdown",
   "id": "6c26b472",
   "metadata": {},
   "source": [
    "### 3. Perform search over them to find concepts you are interested in!"
   ]
  },
  {
   "cell_type": "code",
   "execution_count": 21,
   "id": "081d4637",
   "metadata": {},
   "outputs": [
    {
     "name": "stdout",
     "output_type": "stream",
     "text": [
      "{\n",
      "  \"data\": {\n",
      "    \"Get\": {\n",
      "      \"Articles\": [\n",
      "        {\n",
      "          \"lang\": \"en\",\n",
      "          \"text\": \"Many locals and tourists frequent the Southern California coast for its beaches. Some of southern California's most popular beaches are Malibu, Laguna Beach, La Jolla, Manhattan Beach, and Hermosa Beach. Southern California is also known for its mountain resort communities, such as Big Bear Lake, Lake Arrowhead, and Wrightwood, and their ski resorts, like Bear Mountain, Snow Summit, Snow Valley Mountain Resort, and Mountain High. The inland desert city of Palm Springs is also popular.\",\n",
      "          \"title\": \"Southern California\",\n",
      "          \"url\": \"https://en.wikipedia.org/wiki?curid=62520\",\n",
      "          \"views\": 2000\n",
      "        },\n",
      "        {\n",
      "          \"lang\": \"fr\",\n",
      "          \"text\": \"Les plages et parcs c\\u00f4tiers principaux sont \\\"Trinidad State Beach\\\", \\\"Torrey Pines State Reserve\\\", le \\\"Cabrillo National Monument\\\". Les touristes se dirigent aussi vers les missions espagnoles, le \\\"Donner Memorial State Park\\\", le \\\"Bodie Historic State Park\\\", le parc national de Sequoia et le parc d'\\u00c9tat de Humboldt Redwoods.\",\n",
      "          \"title\": \"Californie\",\n",
      "          \"url\": \"https://fr.wikipedia.org/wiki?curid=623\",\n",
      "          \"views\": 2000\n",
      "        },\n",
      "        {\n",
      "          \"lang\": \"de\",\n",
      "          \"text\": \"An den \\u00dcberwinterungspl\\u00e4tzen in Kalifornien und deutlich sp\\u00e4ter in Mexiko hat sich der Tourismus entwickelt. In Kalifornien gibt es Motels mit Namen wie etwa \\\"Butterfly Trees Lodge\\\" und \\\"Monarch Lodge\\\". Souvenirs mit Schmetterlingen, etwa Broschen und Anstecknadeln, ebenso wie pr\\u00e4parierte Falter, werden angeboten. In Pacific Grove gibt es zur Ankunft der Falter im Herbst ein Fest mit einem Umzug mit Kindern in bunten Kost\\u00fcmen, die Schmetterlinge symbolisieren sollen. Der touristisch erschlossene \\u00dcberwinterungsplatz Rosario in der Sierra Campanario leidet unter dem illegalen Holzeinschlag in seiner Umgebung. Das Gebiet war 2001/202 nur schwach besucht und 2003/2004 und 2004/2005 ganz verlassen.\",\n",
      "          \"title\": \"Monarchfalter\",\n",
      "          \"url\": \"https://de.wikipedia.org/wiki?curid=199088\",\n",
      "          \"views\": 700\n",
      "        },\n",
      "        {\n",
      "          \"lang\": \"en\",\n",
      "          \"text\": \"Like all California beaches, Malibu beaches are technically public land below the mean high tide line. Many large public beaches (Zuma Beach, Surfrider Beach) are easily accessible, but such access is sometimes limited for some of the smaller and more remote beaches. Some Malibu beaches are private, such as Paradise Cove, which charges an entrance fee to keep the crowds at bay.\",\n",
      "          \"title\": \"Malibu, California\",\n",
      "          \"url\": \"https://en.wikipedia.org/wiki?curid=107655\",\n",
      "          \"views\": 2000\n",
      "        },\n",
      "        {\n",
      "          \"lang\": \"en\",\n",
      "          \"text\": \"Carbon Beach, Surfrider Beach, Westward Beach, Escondido Beach, Paradise Cove, Point Dume, Pirates Cove, Zuma Beach, Trancas and Encinal Bluffs are places along the coast in Malibu. Point Dume forms the northern end of the Santa Monica Bay, and Point Dume Headlands Park affords a vista stretching to the Palos Verdes Peninsula and Santa Catalina Island. Directly below the park, on the western side of the point, is Pirates Cove. Because of its relative seclusion, Pirates Cove was previously used as a nude beach, but since nudity is now illegal on all beaches in Los Angeles County, nude sunbathers are subject to fines and/or arrest.\",\n",
      "          \"title\": \"Malibu, California\",\n",
      "          \"url\": \"https://en.wikipedia.org/wiki?curid=107655\",\n",
      "          \"views\": 2000\n",
      "        }\n",
      "      ]\n",
      "    }\n",
      "  }\n",
      "}\n"
     ]
    }
   ],
   "source": [
    "response = (client.query\n",
    "            .get(\"Articles\", [\"text\", \"title\", \"url\", \"views\", \"lang\"])\n",
    "            .with_near_text({'concepts':\"vacation spots in california\"})\n",
    "            .with_limit(5)\n",
    "            .do())\n",
    "\n",
    "print(json.dumps(response, indent=2))"
   ]
  },
  {
   "cell_type": "markdown",
   "id": "31412ad1",
   "metadata": {},
   "source": [
    "### 4. See if you can filter out for a particular language that you understand and then perform vector search to see if you get back relevant results."
   ]
  },
  {
   "cell_type": "code",
   "execution_count": 30,
   "id": "3987c132-06ca-4ee4-a1a9-c6ac04fd7f09",
   "metadata": {},
   "outputs": [],
   "source": [
    "nearText = {\n",
    "        \"concepts\": ['easy to cook tasty meals'],\n",
    "    }\n",
    "\n",
    "properties = [\n",
    "        \"text\", \"title\", \"url\", \"views\", \"lang\",\n",
    "        \"_additional {distance}\"\n",
    "    ]\n",
    "\n",
    "where_filter = {\n",
    "        \"path\": [\"lang\"],\n",
    "        \"operator\": \"Equal\",\n",
    "        \"valueString\": 'en' #ja\n",
    "        }"
   ]
  },
  {
   "cell_type": "code",
   "execution_count": 31,
   "id": "cae530bd",
   "metadata": {},
   "outputs": [
    {
     "name": "stdout",
     "output_type": "stream",
     "text": [
      "{\n",
      "  \"data\": {\n",
      "    \"Get\": {\n",
      "      \"Articles\": [\n",
      "        {\n",
      "          \"_additional\": {\n",
      "            \"distance\": -144.8925\n",
      "          },\n",
      "          \"lang\": \"en\",\n",
      "          \"text\": \"Lawson has adopted a casual approach to cooking, stating, \\\"I think cooking should be about fun and family. ... I think part of my appeal is that my approach to cooking is really relaxed and not rigid. There are no rules in my kitchen.\\\" One editor, highlighting the technical simplicity of Lawson's recipes, noted that \\\"her dishes require none of the elaborate preparation called for by most TV chefs\\\".\",\n",
      "          \"title\": \"Nigella Lawson\",\n",
      "          \"url\": \"https://en.wikipedia.org/wiki?curid=153232\",\n",
      "          \"views\": 2000\n",
      "        },\n",
      "        {\n",
      "          \"_additional\": {\n",
      "            \"distance\": -144.7637\n",
      "          },\n",
      "          \"lang\": \"en\",\n",
      "          \"text\": \"In October 2010, Seinfeld launched a website for beginner cooks called \\\"Do it Delicious.\\\" The website teaches at-home viewers how to prepare particular dishes or meals step-by-step, as well as a kitchen guide, store, blog, and community forum where users can submit tips and ask how-to questions.\",\n",
      "          \"title\": \"Jessica Seinfeld\",\n",
      "          \"url\": \"https://en.wikipedia.org/wiki?curid=8131982\",\n",
      "          \"views\": 2000\n",
      "        },\n",
      "        {\n",
      "          \"_additional\": {\n",
      "            \"distance\": -144.26227\n",
      "          },\n",
      "          \"lang\": \"en\",\n",
      "          \"text\": \"In 2016, Daphne published a book called \\\"The Happy Cook: 125 Recipes for Eating Every Day Like It's the Weekend\\\". The book is filled with healthy twists on comfort classics and simple, nourishing family food that feels elevated and celebratory, \\\"The Happy Cook\\\" is Oz\\u2019s ode to finding joy in the kitchen as a busy mom with less time and great expectations. The New York Times book review said: \\u201cthe recipes are terrific \\u2014 well designed and stress-free\\u2026and everything comes out as beautifully as she promises.\\u201d\",\n",
      "          \"title\": \"Daphne Oz\",\n",
      "          \"url\": \"https://en.wikipedia.org/wiki?curid=31806559\",\n",
      "          \"views\": 2000\n",
      "        },\n",
      "        {\n",
      "          \"_additional\": {\n",
      "            \"distance\": -143.5426\n",
      "          },\n",
      "          \"lang\": \"en\",\n",
      "          \"text\": \"Lawson had an established sense of cooking from her childhood, having had a mother who enjoyed cooking. She conceived the idea of writing a cookbook after she observed a dinner party host in tears because of an unset cr\\u00e8me caramel. \\\"How to Eat\\\" (1998), featuring culinary tips on preparation and saving time, sold 300,000 copies in the UK. \\\"The Sunday Telegraph\\\" dubbed it \\\"the most valuable culinary guide published this decade\\\".\",\n",
      "          \"title\": \"Nigella Lawson\",\n",
      "          \"url\": \"https://en.wikipedia.org/wiki?curid=153232\",\n",
      "          \"views\": 2000\n",
      "        },\n",
      "        {\n",
      "          \"_additional\": {\n",
      "            \"distance\": -143.41687\n",
      "          },\n",
      "          \"lang\": \"en\",\n",
      "          \"text\": \"Meals tend to be less spicy than in most of India. Mizos love eating boiled vegetables along with rice. A popular dish is \\\"bai\\\", made from boiling vegetables (spinach, eggplant, beans, and other leafy vegetables) with \\\"bekang\\\" (fermented soya beans) or \\\"sa-um\\\", fermented pork fat served with rice. \\\"Sawhchiar\\\" is another common dish, made of rice and cooked with pork or chicken.\",\n",
      "          \"title\": \"Indian cuisine\",\n",
      "          \"url\": \"https://en.wikipedia.org/wiki?curid=227809\",\n",
      "          \"views\": 2000\n",
      "        }\n",
      "      ]\n",
      "    }\n",
      "  }\n",
      "}\n"
     ]
    }
   ],
   "source": [
    "response = (\n",
    "            client.query\n",
    "            .get(\"Articles\", properties)\n",
    "            .with_where(where_filter)\n",
    "            .with_near_text(nearText)\n",
    "            .with_limit(5)\n",
    "            .do()\n",
    "        )\n",
    "\n",
    "result = response['data']['Get']['Articles']\n",
    "\n",
    "print(json.dumps(response,indent=2))"
   ]
  },
  {
   "cell_type": "markdown",
   "id": "95b979f8",
   "metadata": {},
   "source": [
    "### Below I've provided you a function to put all of this together and explore interesting multilingual searches"
   ]
  },
  {
   "cell_type": "code",
   "execution_count": 32,
   "id": "3c8309fd",
   "metadata": {},
   "outputs": [],
   "source": [
    "def semantic_serch(query, results_lang=''):\n",
    "    \"\"\" \n",
    "    Query the vectors database and return the top results. \n",
    "\n",
    "\n",
    "    Parameters\n",
    "    ----------\n",
    "        query: str\n",
    "            The search query\n",
    "            \n",
    "        results_lang: str (optional)\n",
    "            Retrieve results only in the specified language.\n",
    "            The demo dataset has those languages:\n",
    "            en, de, fr, es, it, ja, ar, zh, ko, hi\n",
    "\n",
    "    \"\"\"\n",
    "    \n",
    "    nearText = {\"concepts\": [query]}\n",
    "    properties = [\"text\", \"title\", \"url\", \"views\", \"lang\", \"_additional {distance}\"]\n",
    "\n",
    "    # To filter by language\n",
    "    if results_lang != '':\n",
    "        where_filter = {\n",
    "        \"path\": [\"lang\"],\n",
    "        \"operator\": \"Equal\",\n",
    "        \"valueString\": results_lang\n",
    "        }\n",
    "        response = (\n",
    "            client.query\n",
    "            .get(\"Articles\", properties)\n",
    "            .with_where(where_filter)\n",
    "            .with_near_text(nearText)\n",
    "            .with_limit(5)\n",
    "            .do()\n",
    "        )\n",
    "        \n",
    "    # Search all languages\n",
    "    else:\n",
    "        response = (\n",
    "            client.query\n",
    "            .get(\"Articles\", properties)\n",
    "            .with_near_text(nearText)\n",
    "            .with_limit(5)\n",
    "            .do()\n",
    "        )\n",
    "\n",
    "\n",
    "    result = response['data']['Get']['Articles']\n",
    "\n",
    "    return result\n",
    "\n",
    "\n",
    "def print_result(result):\n",
    "    \"\"\" Print results with colorful formatting \"\"\"\n",
    "    for item in result:\n",
    "        print(f\"\\033[95m{item['title']} ({item['views']}) {item['_additional']['distance']}\\033[0m\")\n",
    "        print(f\"\\033[4m{item['url']}\\033[0m\")\n",
    "        print(item['text'])\n",
    "        print()"
   ]
  },
  {
   "cell_type": "code",
   "execution_count": 34,
   "id": "67e9be31-9754-4d74-8600-43fa0840e26c",
   "metadata": {},
   "outputs": [
    {
     "name": "stdout",
     "output_type": "stream",
     "text": [
      "\u001b[95mハンバーグ (1000) -144.0292\u001b[0m\n",
      "\u001b[4mhttps://ja.wikipedia.org/wiki?curid=25707\u001b[0m\n",
      "また、レトルト食品のハンバーグは調理が簡単である。一度焼いたハンバーグをそのまま、またはソースとともに封入することで、パックごと湯煎するだけで食卓に出すことができ、少々の材料面における味の不備も漬け込むソースでフォローできること、衛生的な生産工場（セントラルキッチン）による大量生産によって非常に安価に製造できるメリットが大きいため、家庭用・業務用ともに広く普及している。\n",
      "\n",
      "\u001b[95m電子レンジ (900) -142.92491\u001b[0m\n",
      "\u001b[4mhttps://ja.wikipedia.org/wiki?curid=17051\u001b[0m\n",
      "野菜、とくに火が通りづらい根菜類でも、温野菜を作ることができる。これは食材の下拵えとしても行われる。レンジパックなどの、より簡単に温野菜をつくれる調理グッズも出てきている。ケーキのようなものも、電子レンジを用いて作ることができる。食感は蒸しケーキに似る。\n",
      "\n",
      "\u001b[95mキャセロール (500) -142.91748\u001b[0m\n",
      "\u001b[4mhttps://ja.wikipedia.org/wiki?curid=170018\u001b[0m\n",
      "キャセロールは1950年代に多くの理由により非常に普及した家庭料理になった。材料すなわちツナ缶、缶詰の野菜、缶詰のスープ、およびエッグヌードルが安価で手に入りやすいこと、そして35分あれば作ることができるのが主な理由である。また、残りを冷凍または冷蔵し、翌日に温めなおして食べることもできる。ポットラック（持ち寄り食事会）や病人のお見舞い品としてもたいへん普及している。ツナキャセロールは一皿ごとに異なるが、歴史的には、エッグヌードル、刻みタマネギ、卸したチェダーチーズ、冷凍グリーンピース、漬け油を切ったツナ缶、缶詰の濃縮マッシュルームスープ、缶詰の薄切りマッシュルーム、砕いたポテトチップスを材料とする。ゆでた麺、タマネギ、チーズ、グリーンピース、ツナ、マッシュルームを耐熱皿に入れて混ぜ合わせ、ポテトチップとチーズを天面に振りかけてオーブンで焼く。\n",
      "\n",
      "\u001b[95mチキンライス (500) -142.36076\u001b[0m\n",
      "\u001b[4mhttps://ja.wikipedia.org/wiki?curid=105160\u001b[0m\n",
      "『手軽西洋料理』（1885年、クララ・ホイットニー著）、『家庭之友』（1903年）、『四季毎日三食料理法 冬の部』（1909年）に記載されているチキンライスは、トマトを使用しておらず、ピラフ風の料理である。『家庭料理講義録』（1914年）記載のチキンライスは味付けにカラメルを用いており、『海軍五等主厨厨業教科書』（1918年）ではドミグラスソースが用いられている。\n",
      "\n",
      "\u001b[95m電子レンジ (900) -142.3266\u001b[0m\n",
      "\u001b[4mhttps://ja.wikipedia.org/wiki?curid=17051\u001b[0m\n",
      "しかし、火を使わずにボタンを押すだけで料理を温めることができる便利さは、大きな利点であった。高度経済成長で暮らしが豊かになる半面、核家族化と個食に代表される「家族が食卓を囲み、揃って食事する文化」が過去のものとなっていく過程で、作り置きした料理を簡単に温められる手段へのニーズが増大していき、普及していった。\n",
      "\n"
     ]
    }
   ],
   "source": [
    "query_result = semantic_serch(\"easy to cook tasty meals\", results_lang='ja')\n",
    "\n",
    "# Print out the result\n",
    "print_result(query_result)"
   ]
  }
 ],
 "metadata": {
  "kernelspec": {
   "display_name": "Python 3 (ipykernel)",
   "language": "python",
   "name": "python3"
  },
  "language_info": {
   "codemirror_mode": {
    "name": "ipython",
    "version": 3
   },
   "file_extension": ".py",
   "mimetype": "text/x-python",
   "name": "python",
   "nbconvert_exporter": "python",
   "pygments_lexer": "ipython3",
   "version": "3.11.4"
  }
 },
 "nbformat": 4,
 "nbformat_minor": 5
}
