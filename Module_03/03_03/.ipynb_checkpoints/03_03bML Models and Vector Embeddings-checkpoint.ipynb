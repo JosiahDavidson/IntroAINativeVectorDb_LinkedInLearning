{
 "cells": [
  {
   "cell_type": "markdown",
   "id": "46a385f0",
   "metadata": {},
   "source": [
    "1. Start the Weaviate instance: `docker compose up`\n",
    "2. Run code below"
   ]
  },
  {
   "cell_type": "code",
   "execution_count": null,
   "id": "262599c7",
   "metadata": {},
   "outputs": [],
   "source": [
    "import pickle, weaviate, json, os, IPython"
   ]
  },
  {
   "cell_type": "code",
   "execution_count": null,
   "id": "b7710250",
   "metadata": {},
   "outputs": [],
   "source": [
    "#Connect to the locally launched instance of Weaviate\n",
    "\n",
    "# ADD CODE HERE\n",
    "\n",
    "print(f\"Client created? {client.is_ready()}\")"
   ]
  },
  {
   "cell_type": "code",
   "execution_count": null,
   "id": "e088db7d",
   "metadata": {},
   "outputs": [],
   "source": [
    "#Make sure that we don't have a class already created\n",
    "\n",
    "current_schemas = client.schema.get()['classes']\n",
    "\n",
    "for schema in current_schemas:\n",
    "    if schema['class']=='ClipExample':\n",
    "        client.schema.delete_class('ClipExample')"
   ]
  },
  {
   "cell_type": "code",
   "execution_count": null,
   "id": "a4bb1e12",
   "metadata": {},
   "outputs": [],
   "source": [
    "#Create a class object that uses a multi2vec module\n",
    "#A multi2vec module understands multiple types of data - there are \n",
    "\n",
    "# ADD CODE HERE\n",
    "\n",
    "client.schema.create_class(class_obj)\n",
    "print(\"Schema class created\")"
   ]
  },
  {
   "cell_type": "code",
   "execution_count": null,
   "id": "900c8aa5",
   "metadata": {},
   "outputs": [],
   "source": [
    "#Add images to our created class\n",
    "\n",
    "for img in os.listdir(\"Images/\"):\n",
    "    # ADD CODE HERE"
   ]
  },
  {
   "cell_type": "code",
   "execution_count": null,
   "id": "5b458d52",
   "metadata": {},
   "outputs": [],
   "source": [
    "#Lets search for images of \"dogs\"\n",
    "\n",
    "# ADD CODE HERE\n",
    "\n",
    "print(json.dumps(res,indent=2))"
   ]
  },
  {
   "cell_type": "code",
   "execution_count": null,
   "id": "ad707aa9",
   "metadata": {},
   "outputs": [],
   "source": [
    "#Lets visualize the images that came back\n",
    "IPython.display.Image(filename='filename',width=300) "
   ]
  },
  {
   "cell_type": "code",
   "execution_count": null,
   "id": "0020ff76",
   "metadata": {},
   "outputs": [],
   "source": [
    "#Lets search for images using a query image\n",
    "\n",
    "# ADD CODE HERE\n",
    "\n",
    "print(json.dumps(imres,indent=2))"
   ]
  },
  {
   "cell_type": "code",
   "execution_count": null,
   "id": "270059ff",
   "metadata": {},
   "outputs": [],
   "source": [
    "#Lets visualize the images that came back\n",
    "IPython.display.Image(filename='filename') "
   ]
  },
  {
   "cell_type": "markdown",
   "id": "0063ebfd",
   "metadata": {},
   "source": [
    "### Text to image search"
   ]
  },
  {
   "cell_type": "code",
   "execution_count": null,
   "id": "edd46e9a",
   "metadata": {},
   "outputs": [],
   "source": [
    "#Lets search for images of \"open sea beach\"\n",
    "\n",
    "# ADD CODE HERE\n",
    "\n",
    "print(json.dumps(res,indent=2))"
   ]
  },
  {
   "cell_type": "code",
   "execution_count": null,
   "id": "b607f8a5",
   "metadata": {},
   "outputs": [],
   "source": [
    "#Lets visualize the images that came back\n",
    "IPython.display.Image(filename='filename',width=300) "
   ]
  },
  {
   "cell_type": "code",
   "execution_count": null,
   "id": "9e6f34ee",
   "metadata": {},
   "outputs": [],
   "source": [
    "#Lets visualize the images that came back\n",
    "IPython.display.Image(filename='filename',width=300) "
   ]
  },
  {
   "cell_type": "code",
   "execution_count": null,
   "id": "11eb0b57",
   "metadata": {},
   "outputs": [],
   "source": [
    "#Search for another concept!\n",
    "\n",
    "# ADD CODE HERE\n",
    "\n",
    "print(json.dumps(res,indent=2))"
   ]
  },
  {
   "cell_type": "code",
   "execution_count": null,
   "id": "e34275cb",
   "metadata": {},
   "outputs": [],
   "source": [
    "#Lets visualize the images that came back\n",
    "IPython.display.Image(filename='filename',width=300) "
   ]
  },
  {
   "cell_type": "code",
   "execution_count": null,
   "id": "3af699ed",
   "metadata": {},
   "outputs": [],
   "source": [
    "#Lets visualize the images that came back\n",
    "IPython.display.Image(filename='filename',width=300) "
   ]
  },
  {
   "cell_type": "markdown",
   "id": "cfe45228",
   "metadata": {},
   "source": [
    "### Image to image search"
   ]
  },
  {
   "cell_type": "code",
   "execution_count": null,
   "id": "0f8087db",
   "metadata": {},
   "outputs": [],
   "source": [
    "#Lets look at an input image query\n",
    "\n",
    "IPython.display.Image(filename='filename',width=300) "
   ]
  },
  {
   "cell_type": "code",
   "execution_count": null,
   "id": "0a5d3e58",
   "metadata": {
    "scrolled": true
   },
   "outputs": [],
   "source": [
    "#Lets search for images using a query image\n",
    "\n",
    "# ADD CODE HERE\n",
    "\n",
    "print(json.dumps(imres,indent=2))"
   ]
  },
  {
   "cell_type": "code",
   "execution_count": null,
   "id": "7131f883",
   "metadata": {},
   "outputs": [],
   "source": [
    "#Lets visualize the images that came back\n",
    "IPython.display.Image(filename='filename',width=300) "
   ]
  },
  {
   "cell_type": "code",
   "execution_count": null,
   "id": "10e5bdc0",
   "metadata": {},
   "outputs": [],
   "source": [
    "#Lets visualize the images that came back\n",
    "IPython.display.Image(filename='filename',width=300) "
   ]
  },
  {
   "cell_type": "code",
   "execution_count": null,
   "id": "cdac0f53",
   "metadata": {},
   "outputs": [],
   "source": []
  },
  {
   "cell_type": "code",
   "execution_count": null,
   "id": "42d5b97f",
   "metadata": {},
   "outputs": [],
   "source": [
    "#Lets look at another input image query\n",
    "\n",
    "IPython.display.Image(filename='filename',width=300)  "
   ]
  },
  {
   "cell_type": "code",
   "execution_count": null,
   "id": "3f0e7d24",
   "metadata": {},
   "outputs": [],
   "source": [
    "#Lets search for images using a query image\n",
    "\n",
    "# ADD CODE HERE\n",
    "\n",
    "print(json.dumps(imres,indent=2))"
   ]
  },
  {
   "cell_type": "code",
   "execution_count": null,
   "id": "16c85f84",
   "metadata": {},
   "outputs": [],
   "source": [
    "#Lets visualize the images that came back\n",
    "IPython.display.Image(filename='filename',width=300) "
   ]
  }
 ],
 "metadata": {
  "kernelspec": {
   "display_name": "Python 3 (ipykernel)",
   "language": "python",
   "name": "python3"
  },
  "language_info": {
   "codemirror_mode": {
    "name": "ipython",
    "version": 3
   },
   "file_extension": ".py",
   "mimetype": "text/x-python",
   "name": "python",
   "nbconvert_exporter": "python",
   "pygments_lexer": "ipython3",
   "version": "3.11.4"
  }
 },
 "nbformat": 4,
 "nbformat_minor": 5
}
