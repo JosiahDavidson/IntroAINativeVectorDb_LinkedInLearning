{
 "cells": [
  {
   "cell_type": "markdown",
   "id": "46a385f0",
   "metadata": {},
   "source": [
    "1. Start the Weaviate instance: `docker compose up`\n",
    "2. Run code below"
   ]
  },
  {
   "cell_type": "code",
   "execution_count": 26,
   "id": "262599c7",
   "metadata": {},
   "outputs": [],
   "source": [
    "import pickle, weaviate, json, os, IPython"
   ]
  },
  {
   "cell_type": "code",
   "execution_count": 27,
   "id": "b7710250",
   "metadata": {},
   "outputs": [
    {
     "name": "stdout",
     "output_type": "stream",
     "text": [
      "Client created? True\n"
     ]
    }
   ],
   "source": [
    "client = weaviate.Client(\"http://localhost:8080\")\n",
    "\n",
    "print(f\"Client created? {client.is_ready()}\")"
   ]
  },
  {
   "cell_type": "code",
   "execution_count": 28,
   "id": "e088db7d",
   "metadata": {},
   "outputs": [],
   "source": [
    "current_schemas = client.schema.get()['classes']\n",
    "for schema in current_schemas:\n",
    "    if schema['class']=='ClipExample':\n",
    "        client.schema.delete_class('ClipExample')"
   ]
  },
  {
   "cell_type": "code",
   "execution_count": 29,
   "id": "a4bb1e12",
   "metadata": {},
   "outputs": [
    {
     "name": "stdout",
     "output_type": "stream",
     "text": [
      "Schema class created\n"
     ]
    }
   ],
   "source": [
    "class_obj = {\n",
    "    \"class\": \"ClipExample\",\n",
    "        \"moduleConfig\": {\n",
    "        \"multi2vec-clip\": {\"imageFields\": [\"image\"]}\n",
    "      },\n",
    "        \"vectorizer\": \"multi2vec-clip\",\n",
    "        \"properties\": [{\"name\": \"text\", \"dataType\": [\"string\"]},\n",
    "                       {\"name\": \"image\", \"dataType\": [\"blob\"]}\n",
    "        ]\n",
    "    }\n",
    "\n",
    "client.schema.create_class(class_obj)\n",
    "print(\"Schema class created\")\n"
   ]
  },
  {
   "cell_type": "code",
   "execution_count": 31,
   "id": "900c8aa5",
   "metadata": {},
   "outputs": [
    {
     "name": "stdout",
     "output_type": "stream",
     "text": [
      "Images added\n"
     ]
    }
   ],
   "source": [
    "for img in os.listdir(\"Images/\"):\n",
    "    \n",
    "    encoded_image = weaviate.util.image_encoder_b64(f\"Images/{img}\")\n",
    "    \n",
    "    data_properties = {\n",
    "        \"image\": encoded_image,\n",
    "        \"text\": img\n",
    "    }\n",
    "    client.data_object.create(data_properties, \"ClipExample\")\n",
    "print(\"Images added\")"
   ]
  },
  {
   "cell_type": "code",
   "execution_count": 33,
   "id": "5b458d52",
   "metadata": {},
   "outputs": [
    {
     "name": "stdout",
     "output_type": "stream",
     "text": [
      "{\n",
      "  \"data\": {\n",
      "    \"Get\": {\n",
      "      \"ClipExample\": [\n",
      "        {\n",
      "          \"_additional\": {\n",
      "            \"distance\": 0.7389879\n",
      "          },\n",
      "          \"text\": \"dog1.jfif\"\n",
      "        },\n",
      "        {\n",
      "          \"_additional\": {\n",
      "            \"distance\": 0.7441065\n",
      "          },\n",
      "          \"text\": \"dog_image.jpg\"\n",
      "        },\n",
      "        {\n",
      "          \"_additional\": {\n",
      "            \"distance\": 0.75401986\n",
      "          },\n",
      "          \"text\": \"dog2.jfif\"\n",
      "        }\n",
      "      ]\n",
      "    }\n",
      "  }\n",
      "}\n"
     ]
    }
   ],
   "source": [
    "res = (client.query\n",
    "       .get(\"ClipExample\", [\"text\", \"_additional {distance} \"])\n",
    "       .with_near_text({\"concepts\": [\"dog\"]})\n",
    "       .with_limit(3)\n",
    "       .do()\n",
    "      )\n",
    "\n",
    "print(json.dumps(res,indent=2))"
   ]
  },
  {
   "cell_type": "code",
   "execution_count": null,
   "id": "ea06083d",
   "metadata": {},
   "outputs": [],
   "source": [
    "IPython.display.Image(filename='dog1.jfif') "
   ]
  },
  {
   "cell_type": "code",
   "execution_count": 35,
   "id": "0020ff76",
   "metadata": {
    "scrolled": true
   },
   "outputs": [
    {
     "name": "stdout",
     "output_type": "stream",
     "text": [
      "{\n",
      "  \"data\": {\n",
      "    \"Get\": {\n",
      "      \"ClipExample\": [\n",
      "        {\n",
      "          \"_additional\": {\n",
      "            \"certainty\": 0.9999997317790985\n",
      "          },\n",
      "          \"text\": \"dog1.jfif\"\n",
      "        },\n",
      "        {\n",
      "          \"_additional\": {\n",
      "            \"certainty\": 0.9540415108203888\n",
      "          },\n",
      "          \"text\": \"dog2.jfif\"\n",
      "        },\n",
      "        {\n",
      "          \"_additional\": {\n",
      "            \"certainty\": 0.8923751413822174\n",
      "          },\n",
      "          \"text\": \"dog_image.jpg\"\n",
      "        }\n",
      "      ]\n",
      "    }\n",
      "  }\n",
      "}\n"
     ]
    }
   ],
   "source": [
    "imres = (client.query\n",
    "         .get(\"ClipExample\", [\"text\", \"_additional {certainty} \"])\n",
    "         .with_near_image({'image':'TestImages/dog1.jfif'})\n",
    "         .with_limit(3)\n",
    "         .do())\n",
    "\n",
    "print(json.dumps(imres,indent=2))"
   ]
  },
  {
   "cell_type": "code",
   "execution_count": null,
   "id": "c2420e42",
   "metadata": {},
   "outputs": [],
   "source": [
    "IPython.display.Image(filename='dog1.jfif') "
   ]
  }
 ],
 "metadata": {
  "kernelspec": {
   "display_name": "Python 3 (ipykernel)",
   "language": "python",
   "name": "python3"
  },
  "language_info": {
   "codemirror_mode": {
    "name": "ipython",
    "version": 3
   },
   "file_extension": ".py",
   "mimetype": "text/x-python",
   "name": "python",
   "nbconvert_exporter": "python",
   "pygments_lexer": "ipython3",
   "version": "3.11.4"
  }
 },
 "nbformat": 4,
 "nbformat_minor": 5
}
