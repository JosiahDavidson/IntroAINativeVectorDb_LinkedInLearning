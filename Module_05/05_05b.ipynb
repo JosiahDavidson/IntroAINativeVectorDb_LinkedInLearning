{
 "cells": [
  {
   "cell_type": "markdown",
   "id": "19081130",
   "metadata": {},
   "source": [
    "## Challenge 5\n",
    "\n",
    "1. Write a query that extracts 3 animal-related questions from the database, print these questions out\n",
    "2. Use the with_generate query to provide these questions to an LLM and get it to answer these questions\n",
    "3. See how many of these questions the LLM got correct by printing out the correct answer from the database!\n"
   ]
  },
  {
   "cell_type": "code",
   "execution_count": null,
   "id": "cfd2f8ba",
   "metadata": {},
   "outputs": [],
   "source": [
    "import requests\n",
    "import json\n",
    "#\n",
    "# Download the data\n",
    "resp = requests.get('https://raw.githubusercontent.com/weaviate-tutorials/quickstart/main/data/jeopardy_tiny.json')\n",
    "data = json.loads(resp.text)  # Load data\n",
    "    \n",
    "def json_print(data):\n",
    "    print(json.dumps(data, indent=2))\n",
    "    \n",
    "json_print(data)"
   ]
  },
  {
   "cell_type": "code",
   "execution_count": null,
   "id": "4981786e",
   "metadata": {},
   "outputs": [],
   "source": [
    "import weaviate\n",
    "from weaviate import EmbeddedOptions\n",
    "import os\n",
    "\n",
    "client = weaviate.Client(\n",
    "    embedded_options=EmbeddedOptions(),\n",
    "    additional_headers={\n",
    "        \"X-OpenAI-Api-Key\": os.environ[\"OPENAI_API_KEY\"]  # Replace this with your actual key\n",
    "    }\n",
    ")"
   ]
  },
  {
   "cell_type": "code",
   "execution_count": null,
   "id": "4304bfdd",
   "metadata": {},
   "outputs": [],
   "source": [
    "if client.schema.exists(\"Question\"):\n",
    "    client.schema.delete_class(\"Question\")"
   ]
  },
  {
   "cell_type": "code",
   "execution_count": null,
   "id": "839cb5ed",
   "metadata": {},
   "outputs": [],
   "source": [
    "class_obj = {\n",
    "    \"class\": \"Question\",\n",
    "    \"vectorizer\": \"text2vec-openai\",  # If set to \"none\" you must always provide vectors yourself. Could be any other \"text2vec-*\" also.\n",
    "}\n",
    "\n",
    "client.schema.create_class(class_obj)"
   ]
  },
  {
   "cell_type": "code",
   "execution_count": null,
   "id": "26631ef3",
   "metadata": {},
   "outputs": [],
   "source": [
    "with client.batch.configure() as batch:\n",
    "    for i, d in enumerate(data):  # Batch import data\n",
    "        \n",
    "        print(f\"importing question: {i+1}\")\n",
    "        \n",
    "        properties = {\n",
    "            \"answer\": d[\"Answer\"],\n",
    "            \"question\": d[\"Question\"],\n",
    "            \"category\": d[\"Category\"],\n",
    "        }\n",
    "        \n",
    "        batch.add_data_object(\n",
    "            data_object=properties,\n",
    "            class_name=\"Question\"\n",
    "        )"
   ]
  },
  {
   "cell_type": "code",
   "execution_count": null,
   "id": "a8d17a94",
   "metadata": {},
   "outputs": [],
   "source": [
    "json_print(client.query.aggregate('Question').with_meta_count().do())"
   ]
  },
  {
   "cell_type": "markdown",
   "id": "d3d32c4f",
   "metadata": {},
   "source": [
    "### Q1. Write a query that extracts 3 animal-related questions from the database, print these questions out"
   ]
  },
  {
   "cell_type": "code",
   "execution_count": null,
   "id": "c95b858e",
   "metadata": {},
   "outputs": [],
   "source": [
    "response = # ADD CODE HERE\n",
    "\n",
    "json_print(response)"
   ]
  },
  {
   "cell_type": "markdown",
   "id": "01a16740",
   "metadata": {},
   "source": [
    "### 2. Use the with_generate query to provide these questions to an LLM and get it to answer these questions"
   ]
  },
  {
   "cell_type": "code",
   "execution_count": null,
   "id": "c09d9041",
   "metadata": {},
   "outputs": [],
   "source": [
    "prompt = # ADD CODE HERE\n",
    "\n",
    "response = #ADD CODE HERE\n",
    "\n",
    "json_print(response)"
   ]
  },
  {
   "cell_type": "markdown",
   "id": "ae8badab",
   "metadata": {},
   "source": [
    "### 3. See how many of these questions the LLM got correct by printing out the correct answer from the database!"
   ]
  },
  {
   "cell_type": "code",
   "execution_count": null,
   "id": "a1995aeb",
   "metadata": {},
   "outputs": [],
   "source": [
    "response = #ADD CODE HERE\n",
    "\n",
    "json_print(response)"
   ]
  }
 ],
 "metadata": {
  "kernelspec": {
   "display_name": "Python 3 (ipykernel)",
   "language": "python",
   "name": "python3"
  },
  "language_info": {
   "codemirror_mode": {
    "name": "ipython",
    "version": 3
   },
   "file_extension": ".py",
   "mimetype": "text/x-python",
   "name": "python",
   "nbconvert_exporter": "python",
   "pygments_lexer": "ipython3",
   "version": "3.11.4"
  }
 },
 "nbformat": 4,
 "nbformat_minor": 5
}
