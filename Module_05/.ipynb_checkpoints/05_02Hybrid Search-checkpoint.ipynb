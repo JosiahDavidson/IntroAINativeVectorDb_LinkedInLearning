{
 "cells": [
  {
   "cell_type": "code",
   "execution_count": 6,
   "id": "a5cb4030",
   "metadata": {},
   "outputs": [
    {
     "name": "stdout",
     "output_type": "stream",
     "text": [
      "[\n",
      "  {\n",
      "    \"Category\": \"SCIENCE\",\n",
      "    \"Question\": \"This organ removes excess glucose from the blood & stores it as glycogen\",\n",
      "    \"Answer\": \"Liver\"\n",
      "  },\n",
      "  {\n",
      "    \"Category\": \"ANIMALS\",\n",
      "    \"Question\": \"It's the only living mammal in the order Proboseidea\",\n",
      "    \"Answer\": \"Elephant\"\n",
      "  },\n",
      "  {\n",
      "    \"Category\": \"ANIMALS\",\n",
      "    \"Question\": \"The gavial looks very much like a crocodile except for this bodily feature\",\n",
      "    \"Answer\": \"the nose or snout\"\n",
      "  },\n",
      "  {\n",
      "    \"Category\": \"ANIMALS\",\n",
      "    \"Question\": \"Weighing around a ton, the eland is the largest species of this animal in Africa\",\n",
      "    \"Answer\": \"Antelope\"\n",
      "  },\n",
      "  {\n",
      "    \"Category\": \"ANIMALS\",\n",
      "    \"Question\": \"Heaviest of all poisonous snakes is this North American rattlesnake\",\n",
      "    \"Answer\": \"the diamondback rattler\"\n",
      "  },\n",
      "  {\n",
      "    \"Category\": \"SCIENCE\",\n",
      "    \"Question\": \"2000 news: the Gunnison sage grouse isn't just another northern sage grouse, but a new one of this classification\",\n",
      "    \"Answer\": \"species\"\n",
      "  },\n",
      "  {\n",
      "    \"Category\": \"SCIENCE\",\n",
      "    \"Question\": \"A metal that is ductile can be pulled into this while cold & under pressure\",\n",
      "    \"Answer\": \"wire\"\n",
      "  },\n",
      "  {\n",
      "    \"Category\": \"SCIENCE\",\n",
      "    \"Question\": \"In 1953 Watson & Crick built a model of the molecular structure of this, the gene-carrying substance\",\n",
      "    \"Answer\": \"DNA\"\n",
      "  },\n",
      "  {\n",
      "    \"Category\": \"SCIENCE\",\n",
      "    \"Question\": \"Changes in the tropospheric layer of this are what gives us weather\",\n",
      "    \"Answer\": \"the atmosphere\"\n",
      "  },\n",
      "  {\n",
      "    \"Category\": \"SCIENCE\",\n",
      "    \"Question\": \"In 70-degree air, a plane traveling at about 1,130 feet per second breaks it\",\n",
      "    \"Answer\": \"Sound barrier\"\n",
      "  }\n",
      "]\n"
     ]
    }
   ],
   "source": [
    "import json\n",
    "\n",
    "with open('jeopardy_tiny.json') as f:\n",
    "    data = json.load(f)\n",
    "    \n",
    "def json_print(data):\n",
    "    print(json.dumps(data, indent=2))\n",
    "    \n",
    "json_print(data)"
   ]
  },
  {
   "cell_type": "code",
   "execution_count": 7,
   "id": "4772747f",
   "metadata": {},
   "outputs": [
    {
     "name": "stdout",
     "output_type": "stream",
     "text": [
      "embedded weaviate is already listening on port 6666\n"
     ]
    },
    {
     "name": "stderr",
     "output_type": "stream",
     "text": [
      "{\"action\":\"restapi_management\",\"level\":\"info\",\"msg\":\"Shutting down... \",\"time\":\"2023-09-17T22:10:17-04:00\"}\n",
      "{\"action\":\"restapi_management\",\"level\":\"info\",\"msg\":\"Stopped serving weaviate at http://127.0.0.1:6666\",\"time\":\"2023-09-17T22:10:17-04:00\"}\n"
     ]
    }
   ],
   "source": [
    "import weaviate\n",
    "from weaviate import EmbeddedOptions\n",
    "import os\n",
    "\n",
    "client = weaviate.Client(\n",
    "    embedded_options=EmbeddedOptions(),\n",
    "    additional_headers={\n",
    "        \"X-OpenAI-Api-Key\": os.environ[\"OPENAI_API_KEY\"]  # Replace this with your actual key\n",
    "    }\n",
    ")"
   ]
  },
  {
   "cell_type": "code",
   "execution_count": 8,
   "id": "9729c065",
   "metadata": {},
   "outputs": [
    {
     "name": "stdout",
     "output_type": "stream",
     "text": [
      "Embedded weaviate wasn't listening on port 6666, so starting embedded weaviate again\n",
      "Started /Users/zainhasan/.cache/weaviate-embedded: process ID 57954\n"
     ]
    },
    {
     "name": "stderr",
     "output_type": "stream",
     "text": [
      "{\"action\":\"startup\",\"default_vectorizer_module\":\"none\",\"level\":\"info\",\"msg\":\"the default vectorizer modules is set to \\\"none\\\", as a result all new schema classes without an explicit vectorizer setting, will use this vectorizer\",\"time\":\"2023-09-17T22:10:19-04:00\"}\n",
      "{\"action\":\"startup\",\"auto_schema_enabled\":true,\"level\":\"info\",\"msg\":\"auto schema enabled setting is set to \\\"true\\\"\",\"time\":\"2023-09-17T22:10:19-04:00\"}\n",
      "{\"action\":\"hnsw_vector_cache_prefill\",\"count\":3000,\"index_id\":\"question_C6FJLXYNlnjF\",\"level\":\"info\",\"limit\":1000000000000,\"msg\":\"prefilled vector cache\",\"time\":\"2023-09-17T22:10:19-04:00\",\"took\":43000}\n",
      "{\"level\":\"warning\",\"msg\":\"Multiple vector spaces are present, GraphQL Explore and REST API list objects endpoint module include params has been disabled as a result.\",\"time\":\"2023-09-17T22:10:19-04:00\"}\n",
      "{\"action\":\"grpc_startup\",\"level\":\"info\",\"msg\":\"grpc server listening at [::]:50051\",\"time\":\"2023-09-17T22:10:19-04:00\"}\n",
      "{\"action\":\"restapi_management\",\"level\":\"info\",\"msg\":\"Serving weaviate at http://127.0.0.1:6666\",\"time\":\"2023-09-17T22:10:19-04:00\"}\n"
     ]
    }
   ],
   "source": [
    "if client.schema.exists(\"Question\"):\n",
    "    client.schema.delete_class(\"Question\")"
   ]
  },
  {
   "cell_type": "code",
   "execution_count": 9,
   "id": "3d510e69",
   "metadata": {},
   "outputs": [
    {
     "name": "stderr",
     "output_type": "stream",
     "text": [
      "{\"action\":\"hnsw_vector_cache_prefill\",\"count\":1000,\"index_id\":\"question_JP0uukH6FAYD\",\"level\":\"info\",\"limit\":1000000000000,\"msg\":\"prefilled vector cache\",\"time\":\"2023-09-17T22:10:23-04:00\",\"took\":597333}\n"
     ]
    }
   ],
   "source": [
    "class_obj = {\n",
    "    \"class\": \"Question\",\n",
    "    \"vectorizer\": \"text2vec-openai\",  # If set to \"none\" you must always provide vectors yourself. Could be any other \"text2vec-*\" also.\n",
    "}\n",
    "\n",
    "client.schema.create_class(class_obj)"
   ]
  },
  {
   "cell_type": "code",
   "execution_count": 10,
   "id": "afefa538",
   "metadata": {},
   "outputs": [
    {
     "name": "stdout",
     "output_type": "stream",
     "text": [
      "importing question: 1\n",
      "importing question: 2\n",
      "importing question: 3\n",
      "importing question: 4\n",
      "importing question: 5\n",
      "importing question: 6\n",
      "importing question: 7\n",
      "importing question: 8\n",
      "importing question: 9\n",
      "importing question: 10\n"
     ]
    }
   ],
   "source": [
    "with client.batch.configure() as batch:\n",
    "    for i, d in enumerate(data):  # Batch import data\n",
    "        \n",
    "        print(f\"importing question: {i+1}\")\n",
    "        \n",
    "        properties = {\n",
    "            \"answer\": d[\"Answer\"],\n",
    "            \"question\": d[\"Question\"],\n",
    "            \"category\": d[\"Category\"],\n",
    "        }\n",
    "        \n",
    "        batch.add_data_object(\n",
    "            data_object=properties,\n",
    "            class_name=\"Question\"\n",
    "        )"
   ]
  },
  {
   "cell_type": "code",
   "execution_count": 11,
   "id": "71171f89",
   "metadata": {},
   "outputs": [
    {
     "name": "stdout",
     "output_type": "stream",
     "text": [
      "{\n",
      "  \"data\": {\n",
      "    \"Aggregate\": {\n",
      "      \"Question\": [\n",
      "        {\n",
      "          \"meta\": {\n",
      "            \"count\": 10\n",
      "          }\n",
      "        }\n",
      "      ]\n",
      "    }\n",
      "  }\n",
      "}\n"
     ]
    }
   ],
   "source": [
    "json_print(client.query.aggregate('Question').with_meta_count().do())"
   ]
  },
  {
   "cell_type": "code",
   "execution_count": 19,
   "id": "8c9bf07e",
   "metadata": {},
   "outputs": [
    {
     "name": "stdout",
     "output_type": "stream",
     "text": [
      "{\n",
      "    \"data\": {\n",
      "        \"Get\": {\n",
      "            \"Question\": [\n",
      "                {\n",
      "                    \"answer\": \"Elephant\",\n",
      "                    \"category\": \"ANIMALS\",\n",
      "                    \"question\": \"It's the only living mammal in the order Proboseidea\"\n",
      "                },\n",
      "                {\n",
      "                    \"answer\": \"the nose or snout\",\n",
      "                    \"category\": \"ANIMALS\",\n",
      "                    \"question\": \"The gavial looks very much like a crocodile except for this bodily feature\"\n",
      "                },\n",
      "                {\n",
      "                    \"answer\": \"Antelope\",\n",
      "                    \"category\": \"ANIMALS\",\n",
      "                    \"question\": \"Weighing around a ton, the eland is the largest species of this animal in Africa\"\n",
      "                }\n",
      "            ]\n",
      "        }\n",
      "    }\n",
      "}\n"
     ]
    }
   ],
   "source": [
    "response = (\n",
    "    client.query\n",
    "    .get(\"Question\", [\"question\", \"answer\", \"category\"])\n",
    "    .with_near_text({\"concepts\": [\"animal\"]})\n",
    "    .with_limit(3)\n",
    "    .do()\n",
    ")\n",
    "\n",
    "print(json.dumps(response, indent=4))"
   ]
  },
  {
   "cell_type": "code",
   "execution_count": 18,
   "id": "9b4f3028",
   "metadata": {},
   "outputs": [
    {
     "name": "stdout",
     "output_type": "stream",
     "text": [
      "{\n",
      "    \"data\": {\n",
      "        \"Get\": {\n",
      "            \"Question\": [\n",
      "                {\n",
      "                    \"answer\": \"Antelope\",\n",
      "                    \"category\": \"ANIMALS\",\n",
      "                    \"question\": \"Weighing around a ton, the eland is the largest species of this animal in Africa\"\n",
      "                }\n",
      "            ]\n",
      "        }\n",
      "    }\n",
      "}\n"
     ]
    }
   ],
   "source": [
    "response = (\n",
    "    client.query\n",
    "    .get(\"Question\", [\"question\", \"answer\", \"category\"])\n",
    "    #.with_near_text({\"concepts\": [\"organ in the human body\"]})\n",
    "    .with_bm25(query=\"animal\")\n",
    "    .with_limit(3)\n",
    "    .do()\n",
    ")\n",
    "\n",
    "print(json.dumps(response, indent=4))"
   ]
  },
  {
   "cell_type": "code",
   "execution_count": 23,
   "id": "4b41e606",
   "metadata": {},
   "outputs": [
    {
     "name": "stdout",
     "output_type": "stream",
     "text": [
      "{\n",
      "    \"data\": {\n",
      "        \"Get\": {\n",
      "            \"Question\": [\n",
      "                {\n",
      "                    \"answer\": \"Antelope\",\n",
      "                    \"category\": \"ANIMALS\",\n",
      "                    \"question\": \"Weighing around a ton, the eland is the largest species of this animal in Africa\"\n",
      "                },\n",
      "                {\n",
      "                    \"answer\": \"Elephant\",\n",
      "                    \"category\": \"ANIMALS\",\n",
      "                    \"question\": \"It's the only living mammal in the order Proboseidea\"\n",
      "                },\n",
      "                {\n",
      "                    \"answer\": \"the nose or snout\",\n",
      "                    \"category\": \"ANIMALS\",\n",
      "                    \"question\": \"The gavial looks very much like a crocodile except for this bodily feature\"\n",
      "                }\n",
      "            ]\n",
      "        }\n",
      "    }\n",
      "}\n"
     ]
    },
    {
     "name": "stderr",
     "output_type": "stream",
     "text": [
      "{\"action\":\"hnsw_vector_cache_prefill\",\"count\":1000,\"index_id\":\"question_dZ116Vkb7X16\",\"level\":\"info\",\"limit\":1000000000000,\"msg\":\"prefilled vector cache\",\"time\":\"2023-09-17T22:19:25-04:00\",\"took\":88750}\n"
     ]
    }
   ],
   "source": [
    "response = (\n",
    "    client.query\n",
    "    .get(\"Question\", [\"question\", \"answer\", \"category\"])\n",
    "    #.with_near_text({\"concepts\": [\"organ in the human body\"]})\n",
    "    #.with_bm25(query=\"animal\")\n",
    "    .with_hybrid(query='animal',alpha=0.5)\n",
    "    .with_limit(3)\n",
    "    .do()\n",
    ")\n",
    "\n",
    "print(json.dumps(response, indent=4))"
   ]
  }
 ],
 "metadata": {
  "kernelspec": {
   "display_name": "Python 3 (ipykernel)",
   "language": "python",
   "name": "python3"
  },
  "language_info": {
   "codemirror_mode": {
    "name": "ipython",
    "version": 3
   },
   "file_extension": ".py",
   "mimetype": "text/x-python",
   "name": "python",
   "nbconvert_exporter": "python",
   "pygments_lexer": "ipython3",
   "version": "3.11.4"
  }
 },
 "nbformat": 4,
 "nbformat_minor": 5
}
