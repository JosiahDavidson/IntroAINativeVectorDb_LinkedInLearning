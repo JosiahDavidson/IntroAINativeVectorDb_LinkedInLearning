{
 "cells": [
  {
   "cell_type": "code",
   "execution_count": 12,
   "id": "cfd2f8ba",
   "metadata": {},
   "outputs": [
    {
     "name": "stdout",
     "output_type": "stream",
     "text": [
      "[\n",
      "  {\n",
      "    \"Category\": \"SCIENCE\",\n",
      "    \"Question\": \"This organ removes excess glucose from the blood & stores it as glycogen\",\n",
      "    \"Answer\": \"Liver\"\n",
      "  },\n",
      "  {\n",
      "    \"Category\": \"ANIMALS\",\n",
      "    \"Question\": \"It's the only living mammal in the order Proboseidea\",\n",
      "    \"Answer\": \"Elephant\"\n",
      "  },\n",
      "  {\n",
      "    \"Category\": \"ANIMALS\",\n",
      "    \"Question\": \"The gavial looks very much like a crocodile except for this bodily feature\",\n",
      "    \"Answer\": \"the nose or snout\"\n",
      "  },\n",
      "  {\n",
      "    \"Category\": \"ANIMALS\",\n",
      "    \"Question\": \"Weighing around a ton, the eland is the largest species of this animal in Africa\",\n",
      "    \"Answer\": \"Antelope\"\n",
      "  },\n",
      "  {\n",
      "    \"Category\": \"ANIMALS\",\n",
      "    \"Question\": \"Heaviest of all poisonous snakes is this North American rattlesnake\",\n",
      "    \"Answer\": \"the diamondback rattler\"\n",
      "  },\n",
      "  {\n",
      "    \"Category\": \"SCIENCE\",\n",
      "    \"Question\": \"2000 news: the Gunnison sage grouse isn't just another northern sage grouse, but a new one of this classification\",\n",
      "    \"Answer\": \"species\"\n",
      "  },\n",
      "  {\n",
      "    \"Category\": \"SCIENCE\",\n",
      "    \"Question\": \"A metal that is ductile can be pulled into this while cold & under pressure\",\n",
      "    \"Answer\": \"wire\"\n",
      "  },\n",
      "  {\n",
      "    \"Category\": \"SCIENCE\",\n",
      "    \"Question\": \"In 1953 Watson & Crick built a model of the molecular structure of this, the gene-carrying substance\",\n",
      "    \"Answer\": \"DNA\"\n",
      "  },\n",
      "  {\n",
      "    \"Category\": \"SCIENCE\",\n",
      "    \"Question\": \"Changes in the tropospheric layer of this are what gives us weather\",\n",
      "    \"Answer\": \"the atmosphere\"\n",
      "  },\n",
      "  {\n",
      "    \"Category\": \"SCIENCE\",\n",
      "    \"Question\": \"In 70-degree air, a plane traveling at about 1,130 feet per second breaks it\",\n",
      "    \"Answer\": \"Sound barrier\"\n",
      "  }\n",
      "]\n"
     ]
    }
   ],
   "source": [
    "import json\n",
    "\n",
    "with open('jeopardy_tiny.json') as f:\n",
    "    data = json.load(f)\n",
    "    \n",
    "def json_print(data):\n",
    "    print(json.dumps(data, indent=2))\n",
    "    \n",
    "json_print(data)"
   ]
  },
  {
   "cell_type": "code",
   "execution_count": 13,
   "id": "4981786e",
   "metadata": {},
   "outputs": [
    {
     "name": "stdout",
     "output_type": "stream",
     "text": [
      "embedded weaviate is already listening on port 6666\n"
     ]
    }
   ],
   "source": [
    "import weaviate\n",
    "from weaviate import EmbeddedOptions\n",
    "import os\n",
    "\n",
    "client = weaviate.Client(\n",
    "    embedded_options=EmbeddedOptions(),\n",
    "    additional_headers={\n",
    "        \"X-OpenAI-Api-Key\": os.environ[\"OPENAI_API_KEY\"]  # Replace this with your actual key\n",
    "    }\n",
    ")"
   ]
  },
  {
   "cell_type": "code",
   "execution_count": 14,
   "id": "4304bfdd",
   "metadata": {},
   "outputs": [],
   "source": [
    "if client.schema.exists(\"Question\"):\n",
    "    client.schema.delete_class(\"Question\")"
   ]
  },
  {
   "cell_type": "code",
   "execution_count": 15,
   "id": "839cb5ed",
   "metadata": {},
   "outputs": [],
   "source": [
    "class_obj = {\n",
    "    \"class\": \"Question\",\n",
    "    \"vectorizer\": \"text2vec-openai\",  # If set to \"none\" you must always provide vectors yourself. Could be any other \"text2vec-*\" also.\n",
    "}\n",
    "\n",
    "client.schema.create_class(class_obj)"
   ]
  },
  {
   "cell_type": "code",
   "execution_count": 16,
   "id": "26631ef3",
   "metadata": {},
   "outputs": [
    {
     "name": "stdout",
     "output_type": "stream",
     "text": [
      "importing question: 1\n",
      "importing question: 2\n",
      "importing question: 3\n",
      "importing question: 4\n",
      "importing question: 5\n",
      "importing question: 6\n",
      "importing question: 7\n",
      "importing question: 8\n",
      "importing question: 9\n",
      "importing question: 10\n"
     ]
    }
   ],
   "source": [
    "with client.batch.configure() as batch:\n",
    "    for i, d in enumerate(data):  # Batch import data\n",
    "        \n",
    "        print(f\"importing question: {i+1}\")\n",
    "        \n",
    "        properties = {\n",
    "            \"answer\": d[\"Answer\"],\n",
    "            \"question\": d[\"Question\"],\n",
    "            \"category\": d[\"Category\"],\n",
    "        }\n",
    "        \n",
    "        batch.add_data_object(\n",
    "            data_object=properties,\n",
    "            class_name=\"Question\"\n",
    "        )"
   ]
  },
  {
   "cell_type": "code",
   "execution_count": 17,
   "id": "a8d17a94",
   "metadata": {},
   "outputs": [
    {
     "name": "stdout",
     "output_type": "stream",
     "text": [
      "{\n",
      "  \"data\": {\n",
      "    \"Aggregate\": {\n",
      "      \"Question\": [\n",
      "        {\n",
      "          \"meta\": {\n",
      "            \"count\": 10\n",
      "          }\n",
      "        }\n",
      "      ]\n",
      "    }\n",
      "  }\n",
      "}\n"
     ]
    }
   ],
   "source": [
    "json_print(client.query.aggregate('Question').with_meta_count().do())"
   ]
  },
  {
   "cell_type": "code",
   "execution_count": 20,
   "id": "c95b858e",
   "metadata": {},
   "outputs": [
    {
     "name": "stdout",
     "output_type": "stream",
     "text": [
      "{\n",
      "  \"data\": {\n",
      "    \"Get\": {\n",
      "      \"Question\": [\n",
      "        {\n",
      "          \"answer\": \"Elephant\"\n",
      "        }\n",
      "      ]\n",
      "    }\n",
      "  }\n",
      "}\n"
     ]
    }
   ],
   "source": [
    "response = (client.query\n",
    "            .get(\"Question\", 'answer')\n",
    "            .with_near_text({'concepts':'animals'})\n",
    "            .with_limit(1)\n",
    "            .do()\n",
    "           )\n",
    "\n",
    "json_print(response)"
   ]
  },
  {
   "cell_type": "code",
   "execution_count": 21,
   "id": "c09d9041",
   "metadata": {},
   "outputs": [
    {
     "name": "stdout",
     "output_type": "stream",
     "text": [
      "{\n",
      "  \"data\": {\n",
      "    \"Get\": {\n",
      "      \"Question\": [\n",
      "        {\n",
      "          \"_additional\": {\n",
      "            \"generate\": {\n",
      "              \"error\": null,\n",
      "              \"singleResult\": \"Once upon a time, in a lush and magical forest, there lived a young elephant named Ella. Ella was no ordinary elephant; she possessed a unique ability that set her apart from her fellow elephants. She could fly!\\n\\nElla's story began when she was just a baby elephant. One sunny day, while playing near a sparkling river, she stumbled upon a mysterious glowing flower. Intrigued by its beauty, Ella reached out her trunk and gently touched the petals. In an instant, a burst of magical energy enveloped her, and she felt lighter than air.\\n\\nWith her newfound ability, Ella soared through the sky, her large ears acting as wings, carrying her gracefully through the clouds. The other animals in the forest were amazed and delighted by this extraordinary sight. Birds chirped in awe, monkeys swung from tree to tree, and even the wise old owl hooted with joy.\\n\\nElla's flying adventures took her to distant lands, where she encountered creatures she had only heard of in stories. She met a wise old turtle who shared ancient wisdom, a mischievous squirrel who taught her acrobatic tricks, and a friendly dolphin who guided her through the vast oceans.\\n\\nAs Ella explored the world, she realized that her ability to fly brought her closer to nature and its wonders. She witnessed breathtaking sunsets from above, danced with the stars during meteor showers, and even helped rescue stranded animals in need.\\n\\nOne day, while soaring high above the African savannah, Ella spotted a group of poachers threatening a herd of elephants. Determined to protect her kind, she swooped down, trumpeting loudly, and scared the poachers away. The grateful elephants surrounded Ella, trumpeting in unison, expressing their gratitude for her bravery.\\n\\nNews of Ella's heroic act spread far and wide, reaching the ears of a wise old elephant named Elara. Elara, the leader of the elephant herd, recognized Ella's potential and invited her to join their family. Ella gladly accepted, and from that day forward, she became the guardian of her kind, using her flying abilities to protect elephants from harm.\\n\\nElla's story inspired animals and humans alike, reminding them of the importance of protecting wildlife and cherishing the beauty of nature. She became a symbol of hope, showing that even the most unexpected creatures can make a difference.\\n\\nAnd so, Ella the flying elephant continued her adventures, spreading joy, love, and protection wherever she went. Her wings carried her to new heights, but her heart remained grounded in the forest she called home.\"\n",
      "            }\n",
      "          },\n",
      "          \"answer\": \"Elephant\"\n",
      "        }\n",
      "      ]\n",
      "    }\n",
      "  }\n",
      "}\n"
     ]
    }
   ],
   "source": [
    "prompt = \"Tell me a story about this animal {answer} flying!\"\n",
    "\n",
    "response = (client.query\n",
    "            .get(\"Question\", 'answer')\n",
    "            .with_near_text({'concepts':'animals'})\n",
    "            .with_generate(single_prompt=prompt)\n",
    "            .with_limit(1)\n",
    "            .do()\n",
    "           )\n",
    "\n",
    "json_print(response)"
   ]
  },
  {
   "cell_type": "code",
   "execution_count": 26,
   "id": "a1995aeb",
   "metadata": {},
   "outputs": [
    {
     "name": "stdout",
     "output_type": "stream",
     "text": [
      "{\n",
      "  \"data\": {\n",
      "    \"Get\": {\n",
      "      \"Question\": [\n",
      "        {\n",
      "          \"category\": \"ANIMALS\"\n",
      "        },\n",
      "        {\n",
      "          \"category\": \"ANIMALS\"\n",
      "        },\n",
      "        {\n",
      "          \"category\": \"ANIMALS\"\n",
      "        },\n",
      "        {\n",
      "          \"category\": \"SCIENCE\"\n",
      "        },\n",
      "        {\n",
      "          \"category\": \"ANIMALS\"\n",
      "        },\n",
      "        {\n",
      "          \"category\": \"SCIENCE\"\n",
      "        },\n",
      "        {\n",
      "          \"category\": \"SCIENCE\"\n",
      "        },\n",
      "        {\n",
      "          \"category\": \"SCIENCE\"\n",
      "        },\n",
      "        {\n",
      "          \"category\": \"SCIENCE\"\n",
      "        },\n",
      "        {\n",
      "          \"category\": \"SCIENCE\"\n",
      "        }\n",
      "      ]\n",
      "    }\n",
      "  }\n",
      "}\n"
     ]
    }
   ],
   "source": [
    "response = (client.query\n",
    "            .get(\"Question\", 'category')\n",
    "            .with_near_text({'concepts':'animals'})\n",
    "            .with_limit(10)\n",
    "            .do()\n",
    "           )\n",
    "\n",
    "json_print(response)"
   ]
  },
  {
   "cell_type": "code",
   "execution_count": 27,
   "id": "169f1128",
   "metadata": {},
   "outputs": [
    {
     "name": "stdout",
     "output_type": "stream",
     "text": [
      "{\n",
      "  \"data\": {\n",
      "    \"Get\": {\n",
      "      \"Question\": [\n",
      "        {\n",
      "          \"_additional\": {\n",
      "            \"generate\": {\n",
      "              \"error\": null,\n",
      "              \"groupedResult\": \"A zoologist specializes in the subject category of ANIMALS.\"\n",
      "            }\n",
      "          },\n",
      "          \"category\": \"ANIMALS\"\n",
      "        },\n",
      "        {\n",
      "          \"_additional\": {\n",
      "            \"generate\": null\n",
      "          },\n",
      "          \"category\": \"ANIMALS\"\n",
      "        },\n",
      "        {\n",
      "          \"_additional\": {\n",
      "            \"generate\": null\n",
      "          },\n",
      "          \"category\": \"ANIMALS\"\n",
      "        },\n",
      "        {\n",
      "          \"_additional\": {\n",
      "            \"generate\": null\n",
      "          },\n",
      "          \"category\": \"SCIENCE\"\n",
      "        },\n",
      "        {\n",
      "          \"_additional\": {\n",
      "            \"generate\": null\n",
      "          },\n",
      "          \"category\": \"ANIMALS\"\n",
      "        },\n",
      "        {\n",
      "          \"_additional\": {\n",
      "            \"generate\": null\n",
      "          },\n",
      "          \"category\": \"SCIENCE\"\n",
      "        },\n",
      "        {\n",
      "          \"_additional\": {\n",
      "            \"generate\": null\n",
      "          },\n",
      "          \"category\": \"SCIENCE\"\n",
      "        },\n",
      "        {\n",
      "          \"_additional\": {\n",
      "            \"generate\": null\n",
      "          },\n",
      "          \"category\": \"SCIENCE\"\n",
      "        },\n",
      "        {\n",
      "          \"_additional\": {\n",
      "            \"generate\": null\n",
      "          },\n",
      "          \"category\": \"SCIENCE\"\n",
      "        },\n",
      "        {\n",
      "          \"_additional\": {\n",
      "            \"generate\": null\n",
      "          },\n",
      "          \"category\": \"SCIENCE\"\n",
      "        }\n",
      "      ]\n",
      "    }\n",
      "  }\n",
      "}\n"
     ]
    }
   ],
   "source": [
    "prompt = \"Which of these subjects {category} does a zoologist specialize in?\"\n",
    "\n",
    "response = (client.query\n",
    "            .get(\"Question\", 'category')\n",
    "            .with_near_text({'concepts':'animals'})\n",
    "            .with_generate(grouped_task=prompt)\n",
    "            .with_limit(10)\n",
    "            .do()\n",
    "           )\n",
    "\n",
    "json_print(response)"
   ]
  }
 ],
 "metadata": {
  "kernelspec": {
   "display_name": "Python 3 (ipykernel)",
   "language": "python",
   "name": "python3"
  },
  "language_info": {
   "codemirror_mode": {
    "name": "ipython",
    "version": 3
   },
   "file_extension": ".py",
   "mimetype": "text/x-python",
   "name": "python",
   "nbconvert_exporter": "python",
   "pygments_lexer": "ipython3",
   "version": "3.11.4"
  }
 },
 "nbformat": 4,
 "nbformat_minor": 5
}
