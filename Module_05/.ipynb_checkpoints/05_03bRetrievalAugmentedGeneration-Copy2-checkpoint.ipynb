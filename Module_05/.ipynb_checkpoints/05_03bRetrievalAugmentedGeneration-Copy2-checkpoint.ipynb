{
 "cells": [
  {
   "cell_type": "code",
   "execution_count": null,
   "id": "cfd2f8ba",
   "metadata": {},
   "outputs": [],
   "source": [
    "import requests\n",
    "import json\n",
    "\n",
    "# Download the data\n",
    "resp = requests.get('https://raw.githubusercontent.com/weaviate-tutorials/quickstart/main/data/jeopardy_tiny.json')\n",
    "data = json.loads(resp.text)  # Load data\n",
    "    \n",
    "def json_print(data):\n",
    "    print(json.dumps(data, indent=2))\n",
    "    \n",
    "json_print(data)"
   ]
  },
  {
   "cell_type": "code",
   "execution_count": null,
   "id": "4981786e",
   "metadata": {},
   "outputs": [],
   "source": [
    "import weaviate\n",
    "from weaviate import EmbeddedOptions\n",
    "import os\n",
    "\n",
    "client = weaviate.Client(\n",
    "    embedded_options=EmbeddedOptions(),\n",
    "    additional_headers={\n",
    "        \"X-OpenAI-Api-Key\": os.environ[\"OPENAI_API_KEY\"]  # Replace this with your actual key\n",
    "    }\n",
    ")"
   ]
  },
  {
   "cell_type": "code",
   "execution_count": null,
   "id": "4304bfdd",
   "metadata": {},
   "outputs": [],
   "source": [
    "if client.schema.exists(\"Question\"):\n",
    "    client.schema.delete_class(\"Question\")"
   ]
  },
  {
   "cell_type": "code",
   "execution_count": null,
   "id": "839cb5ed",
   "metadata": {},
   "outputs": [],
   "source": [
    "class_obj = {\n",
    "    \"class\": \"Question\",\n",
    "    \"vectorizer\": \"text2vec-openai\",  # If set to \"none\" you must always provide vectors yourself. Could be any other \"text2vec-*\" also.\n",
    "}\n",
    "\n",
    "client.schema.create_class(class_obj)"
   ]
  },
  {
   "cell_type": "code",
   "execution_count": null,
   "id": "26631ef3",
   "metadata": {},
   "outputs": [],
   "source": [
    "with client.batch.configure() as batch:\n",
    "    for i, d in enumerate(data):  # Batch import data\n",
    "        \n",
    "        print(f\"importing question: {i+1}\")\n",
    "        \n",
    "        properties = {\n",
    "            \"answer\": d[\"Answer\"],\n",
    "            \"question\": d[\"Question\"],\n",
    "            \"category\": d[\"Category\"],\n",
    "        }\n",
    "        \n",
    "        batch.add_data_object(\n",
    "            data_object=properties,\n",
    "            class_name=\"Question\"\n",
    "        )"
   ]
  },
  {
   "cell_type": "code",
   "execution_count": null,
   "id": "a8d17a94",
   "metadata": {},
   "outputs": [],
   "source": [
    "json_print(client.query.aggregate('Question').with_meta_count().do())"
   ]
  },
  {
   "cell_type": "markdown",
   "id": "7f8276bd",
   "metadata": {},
   "source": [
    "### Lets run a vector search to see whats comes back"
   ]
  },
  {
   "cell_type": "code",
   "execution_count": null,
   "id": "c95b858e",
   "metadata": {},
   "outputs": [],
   "source": [
    "#Write a vector search related to animals\n",
    "\n",
    "# ADD CODE HERE\n",
    "\n",
    "json_print(response)"
   ]
  },
  {
   "cell_type": "markdown",
   "id": "7b680b25",
   "metadata": {},
   "source": [
    "### No we want to pass each of these objects to a LLM individually to use when answering a prompt!"
   ]
  },
  {
   "cell_type": "code",
   "execution_count": null,
   "id": "1e4eb385",
   "metadata": {},
   "outputs": [],
   "source": [
    "#Write a prompt that will be passed in the returend object above.\n",
    "\n",
    "# ADD CODE HERE"
   ]
  },
  {
   "cell_type": "code",
   "execution_count": null,
   "id": "c09d9041",
   "metadata": {},
   "outputs": [],
   "source": [
    "#Write a query to perform RAG\n",
    "\n",
    "# ADD CODE HERE\n",
    "\n",
    "json_print(response)"
   ]
  },
  {
   "cell_type": "markdown",
   "id": "a9ce692b",
   "metadata": {},
   "source": [
    "### Lets extract all the categories"
   ]
  },
  {
   "cell_type": "code",
   "execution_count": null,
   "id": "a1995aeb",
   "metadata": {},
   "outputs": [],
   "source": [
    "response = (client.query\n",
    "            .get(\"Question\", 'category')\n",
    "            .with_near_text({'concepts':'animals'})\n",
    "            .with_limit(10)\n",
    "            .do()\n",
    "           )\n",
    "\n",
    "json_print(response)"
   ]
  },
  {
   "cell_type": "markdown",
   "id": "8d988ca8",
   "metadata": {},
   "source": [
    "### Now we'll pass all of these in at the same time for a LLM to generate a grouped answer."
   ]
  },
  {
   "cell_type": "code",
   "execution_count": null,
   "id": "295c7624",
   "metadata": {},
   "outputs": [],
   "source": [
    "#Write a prompt that requires information from all returned objects\n",
    "\n",
    "# ADD CODE HERE"
   ]
  },
  {
   "cell_type": "code",
   "execution_count": null,
   "id": "169f1128",
   "metadata": {},
   "outputs": [],
   "source": [
    "#write a query that generates a grouped response\n",
    "\n",
    "# ADD CODE HERE\n",
    "\n",
    "json_print(response)"
   ]
  }
 ],
 "metadata": {
  "kernelspec": {
   "display_name": "Python 3 (ipykernel)",
   "language": "python",
   "name": "python3"
  },
  "language_info": {
   "codemirror_mode": {
    "name": "ipython",
    "version": 3
   },
   "file_extension": ".py",
   "mimetype": "text/x-python",
   "name": "python",
   "nbconvert_exporter": "python",
   "pygments_lexer": "ipython3",
   "version": "3.11.4"
  }
 },
 "nbformat": 4,
 "nbformat_minor": 5
}
